{
 "cells": [
  {
   "cell_type": "markdown",
   "metadata": {},
   "source": [
    "###### G22:\n",
    "    Alejandro Barrachina Argudo\n",
    "    Walid Bousnitra Bousnitra"
   ]
  },
  {
   "cell_type": "markdown",
   "metadata": {},
   "source": [
    "# Práctica 1. Resolución de problemas con búsqueda \n",
    "## Inteligencia Artificial I    2022/2023"
   ]
  },
  {
   "cell_type": "markdown",
   "metadata": {},
   "source": [
    "La práctica está organizada en 4 partes:\n",
    "* Parte I: se muestra a través de ejemplos resueltos cómo se representan algunos problemas clásicos como el de las jarras, el problema de los misioneros o el problema del ocho puzzle. \n",
    "* Parte II: se muestra el uso de los algoritmos de búsqueda exhaustiva (ciega y heurística) vistos en clase. \n",
    "* Parte III: aprenderemos a medir las propiedades de los algoritmos.\n",
    "* Parte IV: se os dan problemas algo más complejos para resolver al menos 1.\n",
    "\n",
    "En el notebook encontraras claramente identificados los lugares en los que debes incluir código o comentarios.  \n",
    "Cuando termines los ejercicios entrega **este archivo en el campus**.  \n",
    "Debes incluir al comienzo una celda de markdown con el nombre completo de los miembros del grupo y número de grupo.\n",
    "\n",
    "Los comentarios razonados de los ejercicios son la parte más importante de esta práctica. \n",
    "\n",
    "**Fecha de entrega de la práctica completa: 18 de octubre** "
   ]
  },
  {
   "cell_type": "markdown",
   "metadata": {},
   "source": [
    "## Parte I: Representación de problemas de espacios de estados."
   ]
  },
  {
   "cell_type": "markdown",
   "metadata": {},
   "source": [
    "Como hemos visto en clase la representación de un problema de espacio de estados consiste en representar estados y acciones, la comprobación de objetivo y el coste de las acciones.\n",
    "La siguiente clase Problem (de la librería AIMA) representa este esquema general de cualquier problema de espacio de estados. Un problema concreto será una subclase de Problem, y requerirá implementar\n",
    "* estado_inicial, es_estado_final(_), acciones(_), aplica(_,_), coste_de_aplicar_accion y eventualmente __init__ \n",
    "\n",
    "El primer paso es importar el código que necesitamos de search.py de AIMA y usar la clase Problem. \n"
   ]
  },
  {
   "cell_type": "markdown",
   "metadata": {},
   "source": [
    " __Lo más sencillo para empezar es copiar en tu directorio de trabajo los archivos _search.py y utils.py_ de AIMA__"
   ]
  },
  {
   "cell_type": "code",
   "execution_count": 1,
   "metadata": {},
   "outputs": [],
   "source": [
    "# from search import Problem\n",
    "import math"
   ]
  },
  {
   "cell_type": "code",
   "execution_count": 2,
   "metadata": {},
   "outputs": [],
   "source": [
    "## Copiamos aquí la definición de la clase Problem de la librería AIMA para facilitar la explicación.\n",
    "\n",
    "class Problem(object):\n",
    "\n",
    "    \"\"\"The abstract class for a formal problem. You should subclass\n",
    "    this and implement the methods actions and result, and possibly\n",
    "    __init__, goal_test, and path_cost. Then you will create instances\n",
    "    of your subclass and solve them with the various search functions.\"\"\"\n",
    "\n",
    "    def __init__(self, initial, goal=None):\n",
    "        \"\"\"The constructor specifies the initial state, and possibly a goal\n",
    "        state, if there is a unique goal. Your subclass's constructor can add\n",
    "        other arguments.\"\"\"\n",
    "        self.initial = initial\n",
    "        self.goal = goal\n",
    "\n",
    "    def actions(self, state):\n",
    "        \"\"\"Return the actions that can be executed in the given\n",
    "        state. The result would typically be a list, but if there are\n",
    "        many actions, consider yielding them one at a time in an\n",
    "        iterator, rather than building them all at once.\"\"\"\n",
    "        raise NotImplementedError\n",
    "\n",
    "    def result(self, state, action):\n",
    "        \"\"\"Return the state that results from executing the given\n",
    "        action in the given state. The action must be one of\n",
    "        self.actions(state).\"\"\"\n",
    "        raise NotImplementedError\n",
    "\n",
    "    def goal_test(self, state):\n",
    "        \"\"\"Return True if the state is a goal. The default method compares the\n",
    "        state to self.goal or checks for state in self.goal if it is a\n",
    "        list, as specified in the constructor. Override this method if\n",
    "        checking against a single self.goal is not enough.\"\"\"\n",
    "        if isinstance(self.goal, list):\n",
    "            return is_in(state, self.goal)\n",
    "        else:\n",
    "            return state == self.goal\n",
    "\n",
    "    def path_cost(self, c, state1, action, state2):\n",
    "        \"\"\"Return the cost of a solution path that arrives at state2 from\n",
    "        state1 via action, assuming cost c to get up to state1. If the problem\n",
    "        is such that the path doesn't matter, this function will only look at\n",
    "        state2.  If the path does matter, it will consider c and maybe state1\n",
    "        and action. The default method costs 1 for every step in the path.\"\"\"\n",
    "        return c + 1\n",
    "\n",
    "    def value(self, state):\n",
    "        \"\"\"For optimization problems, each state has a value.  Hill-climbing\n",
    "        and related algorithms try to maximize this value.\"\"\"\n",
    "        raise NotImplementedError\n",
    "        \n",
    "    def print(self):\n",
    "        print(\"Hola\")\n",
    "\n",
    "    def coste_de_aplicar_accion(self, estado, accion):\n",
    "        \"\"\"Respecto a la versiòn original de AIMA hemos incluido está función que devuelve el coste de un único operador (aplicar accion a estado). Por defecto, este\n",
    "        coste es 1. Reimplementar si el problema define otro coste \"\"\" \n",
    "        return 1"
   ]
  },
  {
   "cell_type": "markdown",
   "metadata": {},
   "source": [
    "Ahora vamos a ver un ejemplo de cómo __definir un problema como subclase\n",
    "de problema__. En concreto, el problema de las jarras, visto en clase que es muy sencillo. "
   ]
  },
  {
   "cell_type": "code",
   "execution_count": 3,
   "metadata": {},
   "outputs": [],
   "source": [
    "class Jarras(Problem):\n",
    "    \"\"\"Problema de las jarras:\n",
    "    Representaremos los estados como tuplas (x,y) de dos números enteros,\n",
    "    donde x es el número de litros de la jarra de 4 e y es el número de litros\n",
    "    de la jarra de 3\"\"\"\n",
    "\n",
    "    def __init__(self):\n",
    "        self.initial = (0,0)\n",
    "\n",
    "    def actions(self,estado):\n",
    "        jarra_de_4=estado[0]\n",
    "        jarra_de_3=estado[1]\n",
    "        #accs es una lista que inicializamos vacía, comprobaremos las precondiciones y añadiremos en esta lista las acciones aplicables al estado.\n",
    "        accs=list() \n",
    "        if jarra_de_4 > 0:\n",
    "            accs.append(\"vaciar jarra de 4\")\n",
    "        if jarra_de_3 < 3:\n",
    "                accs.append(\"trasvasar de jarra de 4 a jarra de 3\")\n",
    "        if jarra_de_4 < 4:\n",
    "            accs.append(\"llenar jarra de 4\")\n",
    "            if jarra_de_3 > 0:\n",
    "                accs.append(\"trasvasar de jarra de 3 a jarra de 4\")\n",
    "        if jarra_de_3 > 0:\n",
    "            accs.append(\"vaciar jarra de 3\")\n",
    "        if jarra_de_3 < 3:\n",
    "            accs.append(\"llenar jarra de 3\")\n",
    "        return accs\n",
    "        # se devuelve en accs todas las acciones aplicables\n",
    "\n",
    "    def result(self,estado,accion):\n",
    "    # aplica una acción a un estado (esta función se llamará desde el algoritmo de búsqueda)\n",
    "        j4=estado[0]\n",
    "        j3=estado[1]\n",
    "        if accion==\"llenar jarra de 4\":\n",
    "            return (4,j3)\n",
    "        elif accion==\"llenar jarra de 3\":\n",
    "            return (j4,3)\n",
    "        elif accion==\"vaciar jarra de 4\":\n",
    "            return (0,j3)\n",
    "        elif accion==\"vaciar jarra de 3\":\n",
    "            return (j4,0)\n",
    "        elif accion==\"trasvasar de jarra de 4 a jarra de 3\":\n",
    "            return (j4-3+j3,3) if j3+j4 >= 3 else (0,j3+j4)\n",
    "        else: #  \"trasvasar de jarra de 3 a jarra de 4\"\n",
    "            return (j3+j4,0) if j3+j4 <= 4 else (4,j3-4+j4)\n",
    "\n",
    "    def goal_test(self,estado):\n",
    "        return estado[0]==2\n"
   ]
  },
  {
   "cell_type": "markdown",
   "metadata": {},
   "source": [
    "Vamos a probar algunos ejemplos."
   ]
  },
  {
   "cell_type": "code",
   "execution_count": 4,
   "metadata": {},
   "outputs": [
    {
     "data": {
      "text/plain": [
       "(0, 0)"
      ]
     },
     "execution_count": 4,
     "metadata": {},
     "output_type": "execute_result"
    }
   ],
   "source": [
    "# Estado inicial\n",
    "p =Jarras()\n",
    "p.initial"
   ]
  },
  {
   "cell_type": "code",
   "execution_count": 5,
   "metadata": {},
   "outputs": [
    {
     "data": {
      "text/plain": [
       "['trasvasar de jarra de 4 a jarra de 3',\n",
       " 'llenar jarra de 4',\n",
       " 'llenar jarra de 3']"
      ]
     },
     "execution_count": 5,
     "metadata": {},
     "output_type": "execute_result"
    }
   ],
   "source": [
    "# Acciones \n",
    "p.actions(p.initial)"
   ]
  },
  {
   "cell_type": "code",
   "execution_count": 6,
   "metadata": {},
   "outputs": [
    {
     "data": {
      "text/plain": [
       "(4, 0)"
      ]
     },
     "execution_count": 6,
     "metadata": {},
     "output_type": "execute_result"
    }
   ],
   "source": [
    "p.result(p.initial,\"llenar jarra de 4\")"
   ]
  },
  {
   "cell_type": "code",
   "execution_count": 7,
   "metadata": {},
   "outputs": [
    {
     "data": {
      "text/plain": [
       "1"
      ]
     },
     "execution_count": 7,
     "metadata": {},
     "output_type": "execute_result"
    }
   ],
   "source": [
    "p.coste_de_aplicar_accion(p.initial,\"llenar jarra de 4\")"
   ]
  },
  {
   "cell_type": "code",
   "execution_count": 8,
   "metadata": {},
   "outputs": [
    {
     "data": {
      "text/plain": [
       "False"
      ]
     },
     "execution_count": 8,
     "metadata": {},
     "output_type": "execute_result"
    }
   ],
   "source": [
    "p.goal_test(p.initial)"
   ]
  },
  {
   "cell_type": "markdown",
   "metadata": {},
   "source": [
    "### Problema de los misioneros"
   ]
  },
  {
   "cell_type": "code",
   "execution_count": 9,
   "metadata": {},
   "outputs": [],
   "source": [
    "# Creamos la clase ProblemaMisioneros con los elementos que representarán el problema. \n",
    "# Aunque no es necesario puedes hacer tu propia implementación del problema \n",
    "class ProblemaMisioneros(Problem):\n",
    "    ''' Clase problema (formalizacion de nuestro problema) siguiendo la\n",
    "        estructura que aima espera que tengan los problemas.'''\n",
    "    def __init__(self, initial, goal=None):\n",
    "        '''Inicializacion de nuestro problema. En este caso el estado inicial y objetivo se pasan como parámetros'''\n",
    "        Problem.__init__(self, initial, goal)\n",
    "        # En este caso representamos cada accion con un texto para identificar al operador y despues una tupla de dos elementos con la\n",
    "        # cantidad de misioneros y canibales que se mueven en la canoa\n",
    "        self._actions = [('1c', (0, 1)), ('1m', (1, 0)), ('2c', (0, 2)), ('2m', (2, 0)), ('1m1c', (1, 1))]\n",
    "\n",
    "    def actions(self, s):\n",
    "        '''Devuelve las acciones validas para un estado.'''\n",
    "        # las acciones validas para un estado son aquellas que al aplicarse\n",
    "        # nos dejan en otro estado valido. La comprobación de las precondiciones se realiza en una función auxiliar is_valid\n",
    "        return [a for a in self._actions if self._is_valid(self.result(s, a))]\n",
    "\n",
    "    def _is_valid(self, s):\n",
    "        '''Determina si un estado es valido o no.'''\n",
    "        # un estado es valido si no hay mas canibales que misioneros en ninguna\n",
    "        # orilla, y si las cantidades estan entre 0 y 3 \n",
    "        return (s[0] >= s[1] or s[0] == 0) and ((3 - s[0]) >= (3 - s[1]) or s[0] == 3) and (0 <= s[0] <= 3) and (0 <= s[1] <= 3)\n",
    "\n",
    "    def result(self, s, a):\n",
    "        '''Devuelve el estado resultante de aplicar una accion a un estado\n",
    "           determinado.'''\n",
    "        # el estado resultante tiene la canoa en el lado opuesto, y con las\n",
    "        # cantidades de misioneros y canibales actualizadas segun la cantidad\n",
    "        # que viajaron en la canoa\n",
    "        if s[2] == 0:  #si la canoa está en el lado 0\n",
    "            return (s[0] - a[1][0], s[1] - a[1][1], 1)\n",
    "        else:\n",
    "            return (s[0] + a[1][0], s[1] + a[1][1], 0)\n",
    "\n"
   ]
  },
  {
   "cell_type": "code",
   "execution_count": 10,
   "metadata": {},
   "outputs": [],
   "source": [
    "# creamos un problema a partir de nuestra formalizacion de ProblemaMisioneros\n",
    "# como parametros le pasamos el estado inicial, y el estado objetivo que esperamos\n",
    "misioneros = ProblemaMisioneros((3, 3, 0), (0, 0, 1))\n",
    "\n",
    "# Asegurate de que entiendes la formalización del problema y haz algunas pruebas con la representación del problema de los misioneros. \n",
    "# En la siguiente parte vamos a usar las implementaciones de los algoritmos de búsqueda de AIMA para \n",
    "# resolver los problemas que hemos representado. "
   ]
  },
  {
   "cell_type": "code",
   "execution_count": 11,
   "metadata": {},
   "outputs": [
    {
     "data": {
      "text/plain": [
       "(3, 3, 0)"
      ]
     },
     "execution_count": 11,
     "metadata": {},
     "output_type": "execute_result"
    }
   ],
   "source": [
    "misioneros.initial"
   ]
  },
  {
   "cell_type": "code",
   "execution_count": 12,
   "metadata": {},
   "outputs": [
    {
     "data": {
      "text/plain": [
       "[('1c', (0, 1)), ('2c', (0, 2)), ('1m1c', (1, 1))]"
      ]
     },
     "execution_count": 12,
     "metadata": {},
     "output_type": "execute_result"
    }
   ],
   "source": [
    "# Acciones aplicables en el estado inicial\n",
    "misioneros.actions(misioneros.initial)"
   ]
  },
  {
   "cell_type": "markdown",
   "metadata": {},
   "source": [
    "#Por ejemplo, para resolver el problema de los misioneros con \n",
    "#el método de busqueda en anchura la llamada sería:  \n",
    "from search import *\n",
    "breadth_first_tree_search(misioneros).solution()"
   ]
  },
  {
   "cell_type": "code",
   "execution_count": 13,
   "metadata": {},
   "outputs": [
    {
     "data": {
      "text/plain": [
       "[('2c', (0, 2)),\n",
       " ('1c', (0, 1)),\n",
       " ('2c', (0, 2)),\n",
       " ('1c', (0, 1)),\n",
       " ('2m', (2, 0)),\n",
       " ('1m1c', (1, 1)),\n",
       " ('2m', (2, 0)),\n",
       " ('1c', (0, 1)),\n",
       " ('2c', (0, 2)),\n",
       " ('1c', (0, 1)),\n",
       " ('2c', (0, 2))]"
      ]
     },
     "execution_count": 13,
     "metadata": {},
     "output_type": "execute_result"
    }
   ],
   "source": [
    "from search import breadth_first_tree_search\n",
    "breadth_first_tree_search(misioneros).solution()"
   ]
  },
  {
   "cell_type": "markdown",
   "metadata": {},
   "source": [
    "### Representación del problema del puzzle de 8"
   ]
  },
  {
   "cell_type": "markdown",
   "metadata": {},
   "source": [
    "Vamos a definir la clase Ocho_Puzzle, que implementa la representación del problema del 8-puzzle visto en clase. \n",
    "Se os proporciona una versión incompleta y tendréis que completar el código que se presenta a continuación, en los lugares marcados con interrogantes."
   ]
  },
  {
   "cell_type": "markdown",
   "metadata": {},
   "source": [
    "### 8 Puzzle \n",
    "\n",
    "Tablero 3x3 cuyo objetivo es mover la configuración de las piezas desde un estado inicial dado a un estado objetivo moviendo las fichas al espacio en blanco. \n",
    "\n",
    "ejemplo:- \n",
    "\n",
    "                  Inicial                             Goal \n",
    "              | 7 | 2 | 4 |                       | 1 | 2 | 3 |\n",
    "              | 5 | 0 | 6 |                       | 4 | 5 | 6 |\n",
    "              | 8 | 3 | 1 |                       | 7 | 8 | 0 |\n",
    "              \n",
    "Hay 9! configuraciones iniciales pero ojo! porque no todas tienen solución. **Tenlo en cuenta al hacer las pruebas**. "
   ]
  },
  {
   "cell_type": "markdown",
   "metadata": {},
   "source": [
    "### EJERCICIO 1. Completa la definición de los operadores en el problema del Puzle de 8. "
   ]
  },
  {
   "cell_type": "code",
   "execution_count": 14,
   "metadata": {},
   "outputs": [],
   "source": [
    "class Ocho_Puzzle(Problem):\n",
    "    \"\"\"Problema a del 8-puzzle.  Los estados serán tuplas de nueve elementos,\n",
    "    permutaciones de los números del 0 al 8 (el 0 es el hueco). Representan la\n",
    "    disposición de las fichas en el tablero, leídas por filas de arriba a\n",
    "    abajo, y dentro de cada fila, de izquierda a derecha. Las cuatro\n",
    "    acciones del problema las representaremos mediante las cadenas:\n",
    "    \"Mover hueco arriba\", \"Mover hueco abajo\", \"Mover hueco izquierda\" y\n",
    "    \"Mover hueco derecha\", respectivamente.\"\"\"\"\"\n",
    "\n",
    "    def __init__(self, initial, goal=(1, 2, 3, 4, 5, 6, 7, 8, 0)):\n",
    "        \"\"\" Define goal state and initialize a problem \"\"\"\n",
    "        self.goal = goal\n",
    "        Problem.__init__(self, initial, goal)\n",
    "    \n",
    "    def actions(self,estado):        \n",
    "        pos_hueco=estado.index(0) # busco la posicion del 0\n",
    "        accs=list()\n",
    "        if pos_hueco not in (0,1,2):\n",
    "            accs.append(\"Mover hueco arriba\")\n",
    "        ### COMPLETA LA DEFINICIÓN DE LOS OPERADORES. \n",
    "        if pos_hueco not in (6,7,8):\n",
    "            accs.append(\"Mover hueco abajo\")\n",
    "        if pos_hueco not in (0,3,6):\n",
    "            accs.append(\"Mover hueco izquierda\")\n",
    "        if pos_hueco not in (2,5,8):\n",
    "            accs.append(\"Mover hueco derecha\")\n",
    "                \n",
    "        return accs     \n",
    "\n",
    "    def result(self,estado,accion):\n",
    "        pos_hueco = estado.index(0)\n",
    "        l = list(estado)\n",
    "        if accion == \"Mover hueco arriba\":\n",
    "            l[pos_hueco] = l[pos_hueco-3]\n",
    "            l[pos_hueco-3] = 0\n",
    "        ### COMPLETA LA DEFINICIÓN DE LOS OPERADORES.\n",
    "        elif accion == \"Mover hueco abajo\":\n",
    "            l[pos_hueco] = l[pos_hueco+3]\n",
    "            l[pos_hueco+3] = 0\n",
    "        elif accion == \"Mover hueco derecha\":\n",
    "            l[pos_hueco] = l[pos_hueco+1]\n",
    "            l[pos_hueco+1] = 0\n",
    "        elif accion == \"Mover hueco izquierda\":\n",
    "            l[pos_hueco] = l[pos_hueco-1]\n",
    "            l[pos_hueco-1] = 0\n",
    "        \n",
    "        return tuple(l)\n",
    "    \n",
    "    def h(self, node):\n",
    "        \"\"\" Return the heuristic value for a given state. \"\"\"\n",
    "        return 1\n",
    "\n",
    "    def check_solvability(self, state):\n",
    "        \"\"\" Checks if the given state is solvable \"\"\"\n",
    "        # The solvability of a configuration can be checked by calculating the Inversion Permutation. \n",
    "        #If the total Inversion Permutation is even then the initial configuration is solvable else the initial configuration is not solvable which means that only 9!/2 initial states lead to a solution.\n",
    "        inversion = 0\n",
    "        for i in range(len(state)):\n",
    "            for j in range(i+1, len(state)):\n",
    "                if (state[i] > state[j]) and state[i] != 0 and state[j]!= 0:\n",
    "                    inversion += 1\n",
    "        return inversion % 2 == 0    "
   ]
  },
  {
   "cell_type": "markdown",
   "metadata": {},
   "source": [
    "#### Una vez completada la definición de la clase podrás probar los siguientes ejemplos."
   ]
  },
  {
   "cell_type": "code",
   "execution_count": 15,
   "metadata": {},
   "outputs": [
    {
     "data": {
      "text/plain": [
       "(2, 8, 3, 1, 6, 4, 7, 0, 5)"
      ]
     },
     "execution_count": 15,
     "metadata": {},
     "output_type": "execute_result"
    }
   ],
   "source": [
    "p8 = Ocho_Puzzle((2, 8, 3, 1, 6, 4, 7, 0, 5))\n",
    "p8.initial"
   ]
  },
  {
   "cell_type": "code",
   "execution_count": 16,
   "metadata": {},
   "outputs": [
    {
     "data": {
      "text/plain": [
       "['Mover hueco arriba', 'Mover hueco izquierda', 'Mover hueco derecha']"
      ]
     },
     "execution_count": 16,
     "metadata": {},
     "output_type": "execute_result"
    }
   ],
   "source": [
    "p8.actions(p8.initial)\n",
    "#Respuesta: ['Mover hueco arriba', 'Mover hueco izquierda', 'Mover hueco derecha']"
   ]
  },
  {
   "cell_type": "code",
   "execution_count": 17,
   "metadata": {},
   "outputs": [
    {
     "data": {
      "text/plain": [
       "(2, 8, 3, 1, 0, 4, 7, 6, 5)"
      ]
     },
     "execution_count": 17,
     "metadata": {},
     "output_type": "execute_result"
    }
   ],
   "source": [
    "p8.result(p8.initial,\"Mover hueco arriba\")"
   ]
  },
  {
   "cell_type": "code",
   "execution_count": 18,
   "metadata": {},
   "outputs": [
    {
     "name": "stdout",
     "output_type": "stream",
     "text": [
      "list index out of range\n"
     ]
    }
   ],
   "source": [
    "try:\n",
    "    p8.result(p8.initial,\"Mover hueco abajo\")\n",
    "except Exception as e:\n",
    "    print(e)"
   ]
  },
  {
   "cell_type": "code",
   "execution_count": 19,
   "metadata": {},
   "outputs": [
    {
     "data": {
      "text/plain": [
       "(2, 8, 3, 1, 6, 4, 7, 5, 0)"
      ]
     },
     "execution_count": 19,
     "metadata": {},
     "output_type": "execute_result"
    }
   ],
   "source": [
    "p8.result(p8.initial,\"Mover hueco derecha\")"
   ]
  },
  {
   "cell_type": "code",
   "execution_count": 20,
   "metadata": {},
   "outputs": [
    {
     "data": {
      "text/plain": [
       "1"
      ]
     },
     "execution_count": 20,
     "metadata": {},
     "output_type": "execute_result"
    }
   ],
   "source": [
    "p8.coste_de_aplicar_accion(p8.initial,\"Mover hueco abajo\")"
   ]
  },
  {
   "cell_type": "markdown",
   "metadata": {},
   "source": [
    "### EJERCICIO 2.  Usando la representación anterior representa el problema del puzle de 16 piezas."
   ]
  },
  {
   "cell_type": "code",
   "execution_count": 21,
   "metadata": {},
   "outputs": [],
   "source": [
    "class Quince_Puzzle(Problem): \n",
    "    def __init__(self, initial, goal=(1, 2, 3, 4, 5, 6, 7, 8, 9, 10, 11, 12, 13, 14, 15, 0)):\n",
    "        \"\"\" Define goal state and initialize a problem \"\"\"\n",
    "        self.goal = goal\n",
    "        Problem.__init__(self, initial, goal)\n",
    "    \n",
    "    def actions(self,estado):        \n",
    "        pos_hueco=estado.index(0) # busco la posicion del 0\n",
    "        accs=list()\n",
    "        if pos_hueco not in (0,1,2,3):\n",
    "            accs.append(\"Mover hueco arriba\")\n",
    "        ### COMPLETA LA DEFINICIÓN DE LOS OPERADORES. \n",
    "        if pos_hueco not in (12,13,14,15):\n",
    "            accs.append(\"Mover hueco abajo\")\n",
    "        if pos_hueco not in (0,4,8,12):\n",
    "            accs.append(\"Mover hueco izquierda\")\n",
    "        if pos_hueco not in (3,7,11,15):\n",
    "            accs.append(\"Mover hueco derecha\")\n",
    "                \n",
    "        return accs     \n",
    "\n",
    "    def result(self,estado,accion):\n",
    "        pos_hueco = estado.index(0)\n",
    "        l = list(estado)\n",
    "        if accion == \"Mover hueco arriba\":\n",
    "            l[pos_hueco] = l[pos_hueco-4]\n",
    "            l[pos_hueco-4] = 0\n",
    "        ### COMPLETA LA DEFINICIÓN DE LOS OPERADORES.\n",
    "        elif accion == \"Mover hueco abajo\":\n",
    "            l[pos_hueco] = l[pos_hueco+4]\n",
    "            l[pos_hueco+4] = 0\n",
    "        elif accion == \"Mover hueco derecha\":\n",
    "            l[pos_hueco] = l[pos_hueco+1]\n",
    "            l[pos_hueco+1] = 0\n",
    "        elif accion == \"Mover hueco izquierda\":\n",
    "            l[pos_hueco] = l[pos_hueco-1]\n",
    "            l[pos_hueco-1] = 0\n",
    "        \n",
    "        return tuple(l)\n",
    "    \n",
    "    def h(self, node):\n",
    "        \"\"\" Return the heuristic value for a given state. \"\"\"\n",
    "        return 1\n",
    "    \n",
    "    #Comprabacion de solucion con el algoritmo del foro\n",
    "    def check_solvability(self, state):\n",
    "        inversion = 0\n",
    "        for i in range(len(state)):\n",
    "            for j in range(i+1, len(state)):\n",
    "                if (state[i] > state[j]) and state[i] != 0 and state[j]!= 0:\n",
    "                    inversion += 1\n",
    "        if((state.index(0) in [0,1,2,3,8,9,10,11]) & (inversion % 2 == 1)):\n",
    "            return True\n",
    "        elif ((state.index(0) in [4, 5,6,7,12,13,14,15]) & (inversion % 2 == 0)):\n",
    "            return True\n",
    "        return False"
   ]
  },
  {
   "cell_type": "markdown",
   "metadata": {},
   "source": [
    "Realiza algunas pruebas para comprobar que la clase está bien definidA P"
   ]
  },
  {
   "cell_type": "code",
   "execution_count": 22,
   "metadata": {},
   "outputs": [
    {
     "data": {
      "text/plain": [
       "(3, 6, 5, 12, 7, 2, 8, 14, 9, 15, 1, 0, 4, 10, 11, 13)"
      ]
     },
     "execution_count": 22,
     "metadata": {},
     "output_type": "execute_result"
    }
   ],
   "source": [
    "p15 = Quince_Puzzle((3,6,5,12,7,2,8,14,9,15,1,0,4,10,11,13))\n",
    "p15.initial"
   ]
  },
  {
   "cell_type": "code",
   "execution_count": 23,
   "metadata": {},
   "outputs": [
    {
     "data": {
      "text/plain": [
       "['Mover hueco arriba', 'Mover hueco abajo', 'Mover hueco izquierda']"
      ]
     },
     "execution_count": 23,
     "metadata": {},
     "output_type": "execute_result"
    }
   ],
   "source": [
    "p15.actions(p15.initial)"
   ]
  },
  {
   "cell_type": "code",
   "execution_count": 24,
   "metadata": {},
   "outputs": [
    {
     "data": {
      "text/plain": [
       "(3, 6, 5, 12, 7, 2, 8, 0, 9, 15, 1, 14, 4, 10, 11, 13)"
      ]
     },
     "execution_count": 24,
     "metadata": {},
     "output_type": "execute_result"
    }
   ],
   "source": [
    "p15.result(p15.initial,\"Mover hueco arriba\")"
   ]
  },
  {
   "cell_type": "code",
   "execution_count": 25,
   "metadata": {},
   "outputs": [
    {
     "data": {
      "text/plain": [
       "(3, 6, 5, 12, 7, 2, 8, 14, 9, 15, 0, 1, 4, 10, 11, 13)"
      ]
     },
     "execution_count": 25,
     "metadata": {},
     "output_type": "execute_result"
    }
   ],
   "source": [
    "p15.result(p15.initial,\"Mover hueco izquierda\")"
   ]
  },
  {
   "cell_type": "markdown",
   "metadata": {},
   "source": [
    "## Parte II: Experimentación con los algoritmos implementados. Ejecución de los algoritmos de búsqueda de soluciones para una instancia del Problema."
   ]
  },
  {
   "cell_type": "markdown",
   "metadata": {},
   "source": [
    "En primer lugar vamos a ver cómo funciona la búsqueda ciega (en anchura y en profundidad) para encontrar soluciones para los tres problemas anteriores: el problema de las jarras, los misioneros y el problema del ocho puzzle con distintos estados iniciales."
   ]
  },
  {
   "cell_type": "code",
   "execution_count": 26,
   "metadata": {},
   "outputs": [],
   "source": [
    "# Cargamos el módulo con los algoritmos de búsqueda.\n",
    "from search import *\n",
    "from search import breadth_first_tree_search, depth_first_tree_search, depth_first_graph_search, breadth_first_graph_search"
   ]
  },
  {
   "cell_type": "markdown",
   "metadata": {},
   "source": [
    "Para que la importación de search funcione el archivo search.py y utils.py tienen que estar en la misma carpeta que este notebook o poner la ruta correspondiente."
   ]
  },
  {
   "cell_type": "raw",
   "metadata": {},
   "source": [
    "# una opcion para poner un prefijo a la ruta antes de importar es:\n",
    "import sys\n",
    "sys.path.append('aima-python/')\n",
    "import search"
   ]
  },
  {
   "cell_type": "code",
   "execution_count": 27,
   "metadata": {},
   "outputs": [],
   "source": [
    "## comprueba la resolución del problema de las jarras con el método de búsqueda en anchura.  "
   ]
  },
  {
   "cell_type": "code",
   "execution_count": 28,
   "metadata": {},
   "outputs": [
    {
     "data": {
      "text/plain": [
       "['llenar jarra de 4',\n",
       " 'trasvasar de jarra de 4 a jarra de 3',\n",
       " 'vaciar jarra de 3',\n",
       " 'trasvasar de jarra de 4 a jarra de 3',\n",
       " 'llenar jarra de 4',\n",
       " 'trasvasar de jarra de 4 a jarra de 3']"
      ]
     },
     "execution_count": 28,
     "metadata": {},
     "output_type": "execute_result"
    }
   ],
   "source": [
    "breadth_first_tree_search(Jarras()).solution()"
   ]
  },
  {
   "cell_type": "raw",
   "metadata": {},
   "source": [
    "Ejemplo de salida:\n",
    "['llenar jarra de 3',\n",
    " 'trasvasar de jarra de 3 a jarra de 4',\n",
    " 'llenar jarra de 3',\n",
    " 'trasvasar de jarra de 3 a jarra de 4',\n",
    " 'vaciar jarra de 4',\n",
    " 'trasvasar de jarra de 3 a jarra de 4']"
   ]
  },
  {
   "cell_type": "code",
   "execution_count": 29,
   "metadata": {},
   "outputs": [
    {
     "data": {
      "text/plain": [
       "['llenar jarra de 3',\n",
       " 'trasvasar de jarra de 3 a jarra de 4',\n",
       " 'llenar jarra de 3',\n",
       " 'trasvasar de jarra de 3 a jarra de 4',\n",
       " 'vaciar jarra de 4',\n",
       " 'trasvasar de jarra de 3 a jarra de 4']"
      ]
     },
     "execution_count": 29,
     "metadata": {},
     "output_type": "execute_result"
    }
   ],
   "source": [
    "depth_first_graph_search(Jarras()).solution()"
   ]
  },
  {
   "cell_type": "markdown",
   "metadata": {},
   "source": [
    "### EJERCICIO 3. Prueba los algoritmos de búsqueda ciega con el problema de los misioneros y con el  puzzle de 8 y de 16.  Comenta al final cómo se comportan los algoritmos en cuanto a eficiencia y resultados. "
   ]
  },
  {
   "cell_type": "code",
   "execution_count": 30,
   "metadata": {},
   "outputs": [],
   "source": [
    "# Usaremos las implementaciones de los algoritmos de búsqueda de AIMA para \n",
    "# resolver los problemas que hemos representado. \n",
    "\n",
    "#Por ejemplo, para resolver el problema de los misioneros con \n",
    "# el método de busqueda en anchura \n",
    "\n",
    "# breadth_first_tree_search(misioneros).solution()\n",
    "\n",
    "# Realiza pruebas con los diferentes algoritmos observando el comportamiento."
   ]
  },
  {
   "cell_type": "code",
   "execution_count": 31,
   "metadata": {},
   "outputs": [
    {
     "data": {
      "text/plain": [
       "(2, 8, 3, 1, 6, 4, 7, 0, 5)"
      ]
     },
     "execution_count": 31,
     "metadata": {},
     "output_type": "execute_result"
    }
   ],
   "source": [
    "p8 = Ocho_Puzzle((2, 8, 3, 1, 6, 4, 7, 0, 5))\n",
    "p8.initial"
   ]
  },
  {
   "cell_type": "code",
   "execution_count": 32,
   "metadata": {},
   "outputs": [
    {
     "data": {
      "text/plain": [
       "(1, 2, 3, 4, 5, 6, 7, 8, 0)"
      ]
     },
     "execution_count": 32,
     "metadata": {},
     "output_type": "execute_result"
    }
   ],
   "source": [
    "p8.goal"
   ]
  },
  {
   "cell_type": "code",
   "execution_count": null,
   "metadata": {},
   "outputs": [],
   "source": [
    "breadth_first_tree_search(Ocho_Puzzle((2, 8, 3, 1, 6, 4, 7, 0, 5))).solution()\n",
    "## La llamada corresponde al algoritmo de busqueda en anchura sin control de repetidos.  \n",
    "## Esta llamada no funciona, se queda en [*]\n",
    "## Si es método de busqueda en anchura es completo.. ¿no debería terminar? ¿qué crees que está pasando?\n",
    "## El método de búsqueda es completo cuando existe solucion, en este caso no existe solucion para el estado inicial \n",
    "## y por tanto con la busqueda ciega sin control de repreticion y en anchura se acaba construyendo todo es espacio de estados"
   ]
  },
  {
   "cell_type": "raw",
   "metadata": {},
   "source": [
    "# Añade a la definición del problema Ocho_Puzzle la función solvability que comprueba si un estado inicial tiene solución.\n",
    "def check_solvability(self, state):\n",
    "        \"\"\" Checks if the given state is solvable \"\"\"\n",
    "# The solvability of a configuration can be checked by calculating the Inversion Permutation. \n",
    "#If the total Inversion Permutation is even then the initial configuration is solvable else the initial configuration is not solvable which means that only 9!/2 initial states lead to a solution.\n",
    "        inversion = 0\n",
    "        for i in range(len(state)):\n",
    "            for j in range(i+1, len(state)):\n",
    "                if (state[i] > state[j]) and state[i] != 0 and state[j]!= 0:\n",
    "                    inversion += 1\n",
    "        return inversion % 2 == 0        "
   ]
  },
  {
   "cell_type": "code",
   "execution_count": 34,
   "metadata": {},
   "outputs": [],
   "source": [
    "# Comprueba si el estado inicial (2, 8, 3, 1, 6, 4, 7, 0, 5) tiene solución.\n",
    "p8 = Ocho_Puzzle((2, 8, 3, 1, 6, 4, 7, 0, 5))\n",
    "if p8.check_solvability(p8.initial):\n",
    "    sol= breadth_first_tree_search(p8).solution()\n",
    "else: \n",
    "    sol=\"Este estado inicial no tiene solucion\""
   ]
  },
  {
   "cell_type": "code",
   "execution_count": 35,
   "metadata": {},
   "outputs": [
    {
     "data": {
      "text/plain": [
       "'Este estado inicial no tiene solucion'"
      ]
     },
     "execution_count": 35,
     "metadata": {},
     "output_type": "execute_result"
    }
   ],
   "source": [
    "sol"
   ]
  },
  {
   "cell_type": "code",
   "execution_count": 36,
   "metadata": {},
   "outputs": [
    {
     "data": {
      "text/plain": [
       "['Mover hueco derecha', 'Mover hueco derecha']"
      ]
     },
     "execution_count": 36,
     "metadata": {},
     "output_type": "execute_result"
    }
   ],
   "source": [
    "breadth_first_tree_search(Ocho_Puzzle((1,2,3,4,5,6,0,7,8))).solution()"
   ]
  },
  {
   "cell_type": "code",
   "execution_count": 37,
   "metadata": {},
   "outputs": [],
   "source": [
    "estado = Ocho_Puzzle((2, 4, 3, 1, 5, 6, 7, 8, 0))"
   ]
  },
  {
   "cell_type": "code",
   "execution_count": 38,
   "metadata": {},
   "outputs": [
    {
     "data": {
      "text/plain": [
       "['Mover hueco arriba',\n",
       " 'Mover hueco izquierda',\n",
       " 'Mover hueco arriba',\n",
       " 'Mover hueco izquierda',\n",
       " 'Mover hueco abajo',\n",
       " 'Mover hueco derecha',\n",
       " 'Mover hueco derecha',\n",
       " 'Mover hueco abajo']"
      ]
     },
     "execution_count": 38,
     "metadata": {},
     "output_type": "execute_result"
    }
   ],
   "source": [
    "breadth_first_tree_search(estado).solution()\n",
    "# Respuesta: ['arriba', 'izquierda', 'arriba', 'izquierda', 'abajo', 'derecha', 'derecha', 'abajo']"
   ]
  },
  {
   "cell_type": "code",
   "execution_count": null,
   "metadata": {},
   "outputs": [],
   "source": [
    "depth_first_graph_search(estado).solution()"
   ]
  },
  {
   "cell_type": "code",
   "execution_count": null,
   "metadata": {},
   "outputs": [],
   "source": [
    "breadth_first_graph_search(estado).solution()"
   ]
  },
  {
   "cell_type": "code",
   "execution_count": 40,
   "metadata": {},
   "outputs": [
    {
     "data": {
      "text/plain": [
       "(1, 2, 3, 4, 5, 6, 8, 9, 10, 7, 11, 12, 13, 14, 15, 0)"
      ]
     },
     "execution_count": 40,
     "metadata": {},
     "output_type": "execute_result"
    }
   ],
   "source": [
    "prueba = Quince_Puzzle((1,2,3,4,5,6,8,9,10,7,11,12,13,14,15, 0))\n",
    "prueba.initial"
   ]
  },
  {
   "cell_type": "code",
   "execution_count": null,
   "metadata": {},
   "outputs": [],
   "source": [
    "depth_first_graph_search(prueba)"
   ]
  },
  {
   "cell_type": "markdown",
   "metadata": {},
   "source": [
    "### Comentarios del ejercicio 3. \n",
    "#### Se ha podido observar los resultados y tiempo de la ejecución de los algoritmos de búsqueda ciega.  Escribe aquí tus conclusiones respecto a la resolución de los problemas con búsqueda ciega:\n",
    "- Misioneros: \n",
    "    - Al tener una solucion la busqueda cierga por anchura es completa para este problema y como tiene poco factor de ramificacion y por tanto el algoritmo es bastante rapido.\n",
    "- Puzle de 8: \n",
    "    - La busqueda de solución (si existe) por busqueda en anchura en grafo y en anchura en arbol da resultados bastante rápido, si lo intentamos con un grafo en altura se queda buscando solución durante mucho rato (pero llega a la solucion).\n",
    "- Puzle de 16: \n",
    "    - Mismos resultados que para Puzle de 8 pero tardando ligeramente más\n",
    "**********************************************************************************\n",
    "Puedes añadir todo el espacio que necesites."
   ]
  },
  {
   "cell_type": "markdown",
   "metadata": {},
   "source": [
    "### EJERCICIO 4:  Definición de heurísticas"
   ]
  },
  {
   "cell_type": "code",
   "execution_count": 41,
   "metadata": {},
   "outputs": [
    {
     "name": "stdout",
     "output_type": "stream",
     "text": [
      "CPU times: total: 156 ms\n",
      "Wall time: 149 ms\n"
     ]
    },
    {
     "data": {
      "text/plain": [
       "<Node (0, 0, 1)>"
      ]
     },
     "execution_count": 41,
     "metadata": {},
     "output_type": "execute_result"
    }
   ],
   "source": [
    "%%time\n",
    "breadth_first_tree_search(misioneros)"
   ]
  },
  {
   "cell_type": "code",
   "execution_count": 42,
   "metadata": {},
   "outputs": [],
   "source": [
    "#### 4.1. Para el problema de los misioneros define una heurística y comenta sus propiedades\n",
    "# Puedes utilizar alguna de las heurísticas vistas en clase. \n",
    "\n",
    "# Heurísticas para el problema de los misioneros.\n",
    "\n",
    "def h1(node):\n",
    "    \"\"\"\n",
    "        Devuelve el numero de personas a la izquierda por dos (dos viajes ya que alguien siempre vuelve) y resta uno si la barca está a la izquierda\n",
    "    \"\"\"\n",
    "    goal = (0,0,1)\n",
    "    misioneros_izq = node.state[0]\n",
    "    canibales_izq = node.state[1]\n",
    "    pos_barca = node.state[2]\n",
    "    return 2 * (canibales_izq + misioneros_izq) - pos_barca"
   ]
  },
  {
   "cell_type": "code",
   "execution_count": 43,
   "metadata": {},
   "outputs": [
    {
     "data": {
      "text/plain": [
       "[('1m1c', (1, 1)),\n",
       " ('1m', (1, 0)),\n",
       " ('2c', (0, 2)),\n",
       " ('1c', (0, 1)),\n",
       " ('2m', (2, 0)),\n",
       " ('1m1c', (1, 1)),\n",
       " ('2m', (2, 0)),\n",
       " ('1c', (0, 1)),\n",
       " ('2c', (0, 2)),\n",
       " ('1c', (0, 1)),\n",
       " ('2c', (0, 2))]"
      ]
     },
     "execution_count": 43,
     "metadata": {},
     "output_type": "execute_result"
    }
   ],
   "source": [
    "astar_search(misioneros, h1).solution()"
   ]
  },
  {
   "cell_type": "code",
   "execution_count": 44,
   "metadata": {},
   "outputs": [
    {
     "name": "stdout",
     "output_type": "stream",
     "text": [
      "CPU times: total: 0 ns\n",
      "Wall time: 0 ns\n"
     ]
    },
    {
     "data": {
      "text/plain": [
       "[('1m1c', (1, 1)),\n",
       " ('1m', (1, 0)),\n",
       " ('2c', (0, 2)),\n",
       " ('1c', (0, 1)),\n",
       " ('2m', (2, 0)),\n",
       " ('1m1c', (1, 1)),\n",
       " ('2m', (2, 0)),\n",
       " ('1c', (0, 1)),\n",
       " ('2c', (0, 2)),\n",
       " ('1c', (0, 1)),\n",
       " ('2c', (0, 2))]"
      ]
     },
     "execution_count": 44,
     "metadata": {},
     "output_type": "execute_result"
    }
   ],
   "source": [
    "%%time\n",
    "astar_search(misioneros, h1).solution()"
   ]
  },
  {
   "cell_type": "code",
   "execution_count": 45,
   "metadata": {},
   "outputs": [],
   "source": [
    "#### 4.2. Para el problema del puzle de 8 y de 16 se pide definir  las siguientes funciones heurísticas:\n",
    "# linear(node): cuenta el número de casillas mal colocadas respecto al estado final.\n",
    "# manhattan(node): suma la distancia Manhattan desde cada casilla a la posición en la que debería estar en el estado final.\n",
    "# max_heuristic(node: maximo de las dos anteriores\n",
    "# sqrt_manhattan(node):  raíz cuadrada de la distancia Manhattan\n",
    "\n",
    "# Heuristicas para el 8 Puzzle. Puedes definir las funciones fuera de la clase ya que en la llamada a A* puedes pasar el nombre \n",
    "# de la función. \n",
    "\n",
    "def linear(node):\n",
    "    #goal = node.state.goal\n",
    "    goal = (1,2,3,4,5,6,7,8,0)\n",
    "    mal_colocados = 0\n",
    "    for i in range(len(goal)):\n",
    "        if node.state.index(i) != goal.index(i):\n",
    "            mal_colocados +=1\n",
    "    return mal_colocados\n",
    "\n",
    "\n",
    "\n",
    "def manhattan(node):\n",
    "    state = node.state\n",
    "    mhd = 0\n",
    "    goal = (1,2,3,4,5,6,7,8,0)\n",
    "    for i in range(len(state)):\n",
    "        if(state.index(i) != goal.index(i)):\n",
    "            mhd += int((abs(i -goal.index(state[i]))/3) + ((abs(i-goal.index(state[i]))))%3)\n",
    "            # / 3 para saber la distancia vertical\n",
    "            # % 3 para saber la distancia horizontal\n",
    "    \n",
    "    return mhd\n",
    "                \n",
    "def sqrt_manhattan(node):\n",
    "    state = node.state\n",
    "    \n",
    "    return math.sqrt(manhattan(node))\n",
    "\n",
    "def max_heuristic(node):\n",
    "    score1 = manhattan(node)\n",
    "    score2 = linear(node)\n",
    "    return max(score1, score2)\n",
    "        "
   ]
  },
  {
   "cell_type": "markdown",
   "metadata": {},
   "source": [
    "### EJERCICIO 5. \n",
    "#### Usar las implementaciones de AIMA de los algoritmos de búsqueda_coste_uniforme, busqueda_primero_el_mejor y búsqueda_a_estrella (con las heurísticas anteriores) para resolver el problema de los misioneros y algun ejemplo del puzle de 8 y puzle de 16. \n",
    "\n",
    "#### Comparar los costes temporales usando %timeit y comentar los resultados."
   ]
  },
  {
   "cell_type": "code",
   "execution_count": 46,
   "metadata": {},
   "outputs": [
    {
     "data": {
      "text/plain": [
       "['Mover hueco arriba',\n",
       " 'Mover hueco izquierda',\n",
       " 'Mover hueco arriba',\n",
       " 'Mover hueco izquierda',\n",
       " 'Mover hueco abajo',\n",
       " 'Mover hueco derecha',\n",
       " 'Mover hueco derecha',\n",
       " 'Mover hueco abajo']"
      ]
     },
     "execution_count": 46,
     "metadata": {},
     "output_type": "execute_result"
    }
   ],
   "source": [
    "####  Vamos a probar el 8-puzzle utilizando el siguiente **estado inicial** \n",
    "\n",
    "#              +---+---+---+\n",
    "#              | 2 | 4 | 3 |\n",
    "#              +---+---+---+\n",
    "#              | 1 | 5 | 6 |\n",
    "#              +---+---+---+\n",
    "#              | 7 | 8 | H |\n",
    "#              +---+---+---+\n",
    "\n",
    "puzle = Ocho_Puzzle((2, 4, 3, 1, 5, 6, 7, 8, 0)) \n",
    "astar_search(puzle).solution()"
   ]
  },
  {
   "cell_type": "code",
   "execution_count": 47,
   "metadata": {},
   "outputs": [
    {
     "data": {
      "text/plain": [
       "['Mover hueco arriba',\n",
       " 'Mover hueco izquierda',\n",
       " 'Mover hueco arriba',\n",
       " 'Mover hueco izquierda',\n",
       " 'Mover hueco abajo',\n",
       " 'Mover hueco derecha',\n",
       " 'Mover hueco derecha',\n",
       " 'Mover hueco abajo']"
      ]
     },
     "execution_count": 47,
     "metadata": {},
     "output_type": "execute_result"
    }
   ],
   "source": [
    "astar_search(puzle,manhattan).solution()"
   ]
  },
  {
   "cell_type": "code",
   "execution_count": 48,
   "metadata": {},
   "outputs": [
    {
     "data": {
      "text/plain": [
       "(2, 4, 3, 1, 5, 6, 7, 8, 0)"
      ]
     },
     "execution_count": 48,
     "metadata": {},
     "output_type": "execute_result"
    }
   ],
   "source": [
    "puzle.initial"
   ]
  },
  {
   "cell_type": "code",
   "execution_count": 49,
   "metadata": {},
   "outputs": [
    {
     "data": {
      "text/plain": [
       "(1, 2, 3, 4, 5, 6, 7, 8, 0)"
      ]
     },
     "execution_count": 49,
     "metadata": {},
     "output_type": "execute_result"
    }
   ],
   "source": [
    "puzle.goal"
   ]
  },
  {
   "cell_type": "code",
   "execution_count": 50,
   "metadata": {},
   "outputs": [
    {
     "data": {
      "text/plain": [
       "['Mover hueco arriba',\n",
       " 'Mover hueco izquierda',\n",
       " 'Mover hueco arriba',\n",
       " 'Mover hueco izquierda',\n",
       " 'Mover hueco abajo',\n",
       " 'Mover hueco derecha',\n",
       " 'Mover hueco derecha',\n",
       " 'Mover hueco abajo']"
      ]
     },
     "execution_count": 50,
     "metadata": {},
     "output_type": "execute_result"
    }
   ],
   "source": [
    "astar_search(puzle,linear).solution()"
   ]
  },
  {
   "cell_type": "code",
   "execution_count": 51,
   "metadata": {},
   "outputs": [
    {
     "data": {
      "text/plain": [
       "['Mover hueco arriba',\n",
       " 'Mover hueco izquierda',\n",
       " 'Mover hueco arriba',\n",
       " 'Mover hueco izquierda',\n",
       " 'Mover hueco abajo',\n",
       " 'Mover hueco derecha',\n",
       " 'Mover hueco derecha',\n",
       " 'Mover hueco abajo']"
      ]
     },
     "execution_count": 51,
     "metadata": {},
     "output_type": "execute_result"
    }
   ],
   "source": [
    "astar_search(puzle,max_heuristic).solution()"
   ]
  },
  {
   "cell_type": "markdown",
   "metadata": {},
   "source": [
    "¿Has notado diferencias en los tiempos de ejecución? ¿y en los resultados?\n",
    "Vamos a medirlo "
   ]
  },
  {
   "cell_type": "code",
   "execution_count": 52,
   "metadata": {},
   "outputs": [],
   "source": [
    "puzzle_1 = Ocho_Puzzle((2, 4, 3, 1, 5, 6, 7, 8, 0))\n",
    "puzzle_2 = Ocho_Puzzle((1, 2, 3, 4, 5, 6, 0, 7, 8))\n",
    "puzzle_3 = Ocho_Puzzle((1, 2, 3, 4, 5, 7, 8, 6, 0))"
   ]
  },
  {
   "cell_type": "code",
   "execution_count": 53,
   "metadata": {},
   "outputs": [
    {
     "name": "stdout",
     "output_type": "stream",
     "text": [
      "CPU times: total: 0 ns\n",
      "Wall time: 5 ms\n"
     ]
    },
    {
     "data": {
      "text/plain": [
       "<Node (1, 2, 3, 4, 5, 6, 7, 8, 0)>"
      ]
     },
     "execution_count": 53,
     "metadata": {},
     "output_type": "execute_result"
    }
   ],
   "source": [
    "%%time\n",
    "astar_search(puzzle_1, linear)\n",
    "astar_search(puzzle_2, linear)\n",
    "astar_search(puzzle_3, linear)"
   ]
  },
  {
   "cell_type": "code",
   "execution_count": 54,
   "metadata": {},
   "outputs": [
    {
     "name": "stdout",
     "output_type": "stream",
     "text": [
      "CPU times: total: 0 ns\n",
      "Wall time: 6 ms\n"
     ]
    },
    {
     "data": {
      "text/plain": [
       "<Node (1, 2, 3, 4, 5, 6, 7, 8, 0)>"
      ]
     },
     "execution_count": 54,
     "metadata": {},
     "output_type": "execute_result"
    }
   ],
   "source": [
    "%%time\n",
    "astar_search(puzzle_1, manhattan)\n",
    "astar_search(puzzle_2, manhattan)\n",
    "astar_search(puzzle_3, manhattan)"
   ]
  },
  {
   "cell_type": "code",
   "execution_count": 55,
   "metadata": {},
   "outputs": [
    {
     "name": "stdout",
     "output_type": "stream",
     "text": [
      "CPU times: total: 62.5 ms\n",
      "Wall time: 69 ms\n"
     ]
    },
    {
     "data": {
      "text/plain": [
       "<Node (1, 2, 3, 4, 5, 6, 7, 8, 0)>"
      ]
     },
     "execution_count": 55,
     "metadata": {},
     "output_type": "execute_result"
    }
   ],
   "source": [
    "%%time\n",
    "astar_search(puzzle_1, sqrt_manhattan)\n",
    "astar_search(puzzle_2, sqrt_manhattan)\n",
    "astar_search(puzzle_3, sqrt_manhattan)"
   ]
  },
  {
   "cell_type": "code",
   "execution_count": 56,
   "metadata": {},
   "outputs": [
    {
     "name": "stdout",
     "output_type": "stream",
     "text": [
      "CPU times: total: 0 ns\n",
      "Wall time: 6 ms\n"
     ]
    },
    {
     "data": {
      "text/plain": [
       "<Node (1, 2, 3, 4, 5, 6, 7, 8, 0)>"
      ]
     },
     "execution_count": 56,
     "metadata": {},
     "output_type": "execute_result"
    }
   ],
   "source": [
    "%%time\n",
    "astar_search(puzzle_1, max_heuristic)\n",
    "astar_search(puzzle_2, max_heuristic)\n",
    "astar_search(puzzle_3, max_heuristic)"
   ]
  },
  {
   "cell_type": "markdown",
   "metadata": {},
   "source": [
    "####  Realiza pruebas también con el puzle de 16 con los estados iniciales que quieras.  Escribe aquí tus conclusiones sobre qué heurística te parece mejor para este problema.  \n",
    "\n",
    "Ten en cuenta que el número de posibles estados iniciales es n!, siendo n el número de fichas (números y hueco). Por tanto, en el puzle 4x4 (16 fichas), tendremos más de 130.000 millones de posibles estados iniciales. Sin embargo, sólo la mitad de esas combinaciones tiene solución. En el caso del siguiente estado inicial que sí tiene solución: (1,2,3,4,5,6,7,8,9,10,12,15,13,14,11,0) indica los nodos generados por A* con alguna de las heurísticas y comparalo con el puzle de 8.\n",
    "\n",
    "\n",
    "#### Justifica claramente la respuesta basándote en los resultados esperados  (según las clases teóricas) y los resultados obtenidos en las pruebas anteriores.\n",
    "\n",
    "Basandonos en la experiencia del 8 puzzle, podemos concluir que la busqueda lineal solo nos va a dar mejores resultados para casos en los que la solución esté muy cercana, mientras la manhattan nos dará una busqueda más informada y por tanto hará una mayor poda.\n"
   ]
  },
  {
   "cell_type": "markdown",
   "metadata": {},
   "source": [
    "## Parte III:  Calcular estadísticas sobre la ejecución de los algoritmos para resolución de problemas de ocho puzzle. \n",
    "### El objetivo es comprobar experimentalmente las propiedades teóricas de los algoritmos vistas en clase.\n",
    "Usaremos la función %timeit para medir los tiempos y para el espacio una version modificada de Problema que almacena el número de nodos.\n",
    "\n"
   ]
  },
  {
   "cell_type": "markdown",
   "metadata": {},
   "source": [
    "En la clase modificada también vamos a incluir el calculo que nos diga si un cierto tablero tiene solución o no. Esto es muy útil.. como hemos comentado al principio solo algunos tableros tienen solucion. En el caso del puzle de 8 un tablero se ha demostrado que se puede comprobar calculando su paridad (o número de inversiones). Si es impar el tablero **no** tiene solución.  El concepto de inversión de una ficha será la suma del número de fichas que se encuentran en una posición superior a dicha ficha y que deberían estar situadas en una posición inferior. La inversión total será la suma de las inversiones individuales. Si este número es par, el puzzle tendrá solución. En caso contrario, no habrá solución. "
   ]
  },
  {
   "cell_type": "code",
   "execution_count": 57,
   "metadata": {},
   "outputs": [],
   "source": [
    "# Hacemos una definición ampliada de la clase Problem de AIMA que nos va a permitir experimentar con distintos\n",
    "# estados iniciales, algoritmos y heurísticas. \n",
    "\n",
    "# Añadimos en la clase ampliada la capacidad para contar el número de nodos analizados durante la\n",
    "# búsqueda:\n",
    "\n",
    "\n",
    "class Problema_con_Analizados(Problem):\n",
    "\n",
    "    \"\"\"Es un problema que se comporta exactamente igual que el que recibe al\n",
    "       inicializarse, y además incorpora unos atributos nuevos para almacenar el\n",
    "       número de nodos analizados durante la búsqueda. De esta manera, no\n",
    "       tenemos que modificar el código del algoritmo de búsqueda.\"\"\" \n",
    "         \n",
    "    def __init__(self, problem):\n",
    "        self.initial = problem.initial\n",
    "        self.problem = problem\n",
    "        self.analizados  = 0\n",
    "        self.goal = problem.goal\n",
    "\n",
    "    def actions(self, estado):\n",
    "        return self.problem.actions(estado)\n",
    "\n",
    "    def result(self, estado, accion):\n",
    "        return self.problem.result(estado, accion)\n",
    "\n",
    "    def goal_test(self, estado):\n",
    "        self.analizados += 1\n",
    "        return self.problem.goal_test(estado)\n",
    "\n",
    "    def coste_de_aplicar_accion(self, estado, accion):\n",
    "        return self.problem.coste_de_aplicar_accion(estado,accion)"
   ]
  },
  {
   "cell_type": "code",
   "execution_count": 58,
   "metadata": {},
   "outputs": [],
   "source": [
    "estado_inicial = (1,2,3,4,5,6,7,0,8)\n",
    "p8p=Problema_con_Analizados(Ocho_Puzzle(estado_inicial))\n",
    "p8 = Ocho_Puzzle(estado_inicial)"
   ]
  },
  {
   "cell_type": "code",
   "execution_count": 59,
   "metadata": {},
   "outputs": [
    {
     "data": {
      "text/plain": [
       "(1, 2, 3, 4, 5, 6, 7, 0, 8)"
      ]
     },
     "execution_count": 59,
     "metadata": {},
     "output_type": "execute_result"
    }
   ],
   "source": [
    "p8p.initial"
   ]
  },
  {
   "cell_type": "code",
   "execution_count": 60,
   "metadata": {},
   "outputs": [
    {
     "data": {
      "text/plain": [
       "(1, 2, 3, 4, 5, 6, 7, 8, 0)"
      ]
     },
     "execution_count": 60,
     "metadata": {},
     "output_type": "execute_result"
    }
   ],
   "source": [
    "p8p.goal"
   ]
  },
  {
   "cell_type": "code",
   "execution_count": 61,
   "metadata": {},
   "outputs": [
    {
     "data": {
      "text/plain": [
       "['Mover hueco arriba',\n",
       " 'Mover hueco izquierda',\n",
       " 'Mover hueco arriba',\n",
       " 'Mover hueco izquierda',\n",
       " 'Mover hueco abajo',\n",
       " 'Mover hueco derecha',\n",
       " 'Mover hueco derecha',\n",
       " 'Mover hueco abajo']"
      ]
     },
     "execution_count": 61,
     "metadata": {},
     "output_type": "execute_result"
    }
   ],
   "source": [
    "puzzle_1 = Ocho_Puzzle((2, 4, 3, 1, 5, 6, 7, 8, 0))\n",
    "astar_search(puzzle_1, manhattan).solution()"
   ]
  },
  {
   "cell_type": "code",
   "execution_count": 62,
   "metadata": {},
   "outputs": [
    {
     "data": {
      "text/plain": [
       "['Mover hueco derecha']"
      ]
     },
     "execution_count": 62,
     "metadata": {},
     "output_type": "execute_result"
    }
   ],
   "source": [
    "astar_search(p8, manhattan).solution()"
   ]
  },
  {
   "cell_type": "code",
   "execution_count": 63,
   "metadata": {},
   "outputs": [
    {
     "data": {
      "text/plain": [
       "['Mover hueco derecha']"
      ]
     },
     "execution_count": 63,
     "metadata": {},
     "output_type": "execute_result"
    }
   ],
   "source": [
    "astar_search(p8p, manhattan).solution()"
   ]
  },
  {
   "cell_type": "code",
   "execution_count": 64,
   "metadata": {},
   "outputs": [],
   "source": [
    "def resuelve_ocho_puzzle(estado_inicial, algoritmo, h=None):\n",
    "    \"\"\"Función para aplicar un algoritmo de búsqueda dado al problema del ocho\n",
    "       puzzle, con un estado inicial dado y (cuando el algoritmo lo necesite)\n",
    "       una heurística dada.\n",
    "       Ejemplo de uso:\n",
    "           puzzle_1 = (2, 4, 3, 1, 5, 6, 7, 8, 0)\n",
    "           resuelve_ocho_puzzle(puzzle_1,astar_search,h2_ocho_puzzle)\n",
    "        Solución: ['Mover hueco arriba', 'Mover hueco izquierda', 'Mover hueco arriba', \n",
    "        'Mover hueco izquierda', 'Mover hueco abajo', 'Mover hueco derecha', 'Mover hueco derecha', 'Mover hueco abajo']\n",
    "        Algoritmo: astar_search\n",
    "        Heurística: h2_ocho_puzzle\n",
    "        Longitud de la solución: 8. Nodos analizados: 11\n",
    "       \"\"\"\n",
    "    p8=Ocho_Puzzle(estado_inicial)\n",
    "    p8p=Problema_con_Analizados(p8)\n",
    "    if p8.check_solvability(estado_inicial):\n",
    "        if h: \n",
    "            sol= algoritmo(p8p,h).solution()\n",
    "        else: \n",
    "            sol= algoritmo(p8p).solution()\n",
    "        print(\"Solución: {0}\".format(sol))\n",
    "        print(\"Algoritmo: {0}\".format(algoritmo.__name__))\n",
    "        if h: \n",
    "            print(\"Heurística: {0}\".format(h.__name__))\n",
    "        else:\n",
    "            pass\n",
    "        print(\"Longitud de la solución: {0}. Nodos analizados: {1}\".format(len(sol),p8p.analizados))\n",
    "    else: \n",
    "        print(\"Este problema no tiene solucion. \")\n"
   ]
  },
  {
   "cell_type": "code",
   "execution_count": 65,
   "metadata": {
    "scrolled": true
   },
   "outputs": [
    {
     "name": "stdout",
     "output_type": "stream",
     "text": [
      "Solución: ['Mover hueco derecha']\n",
      "Algoritmo: astar_search\n",
      "Heurística: manhattan\n",
      "Longitud de la solución: 1. Nodos analizados: 2\n"
     ]
    }
   ],
   "source": [
    "resuelve_ocho_puzzle(estado_inicial,astar_search,manhattan)"
   ]
  },
  {
   "cell_type": "code",
   "execution_count": 66,
   "metadata": {},
   "outputs": [],
   "source": [
    "e1 = (7,2,4,3,6,1,8,0,5) \n",
    "e2 = (4,5,6,1,0,2,7,8,2)\n",
    "e3 = (5,3,1,8,0,4,6,2,7)\n",
    "e4 = (0,8,7,6,5,4,3,2,1)\n",
    "e5 = (8,0,3,1,2,6,4,7,5)"
   ]
  },
  {
   "cell_type": "code",
   "execution_count": 82,
   "metadata": {},
   "outputs": [
    {
     "name": "stdout",
     "output_type": "stream",
     "text": [
      "Este problema no tiene solucion. \n",
      "CPU times: total: 0 ns\n",
      "Wall time: 0 ns\n",
      "Este problema no tiene solucion. \n",
      "CPU times: total: 0 ns\n",
      "Wall time: 0 ns\n"
     ]
    },
    {
     "ename": "KeyboardInterrupt",
     "evalue": "",
     "output_type": "error",
     "traceback": [
      "\u001b[1;31m---------------------------------------------------------------------------\u001b[0m",
      "\u001b[1;31mKeyboardInterrupt\u001b[0m                         Traceback (most recent call last)",
      "File \u001b[1;32m<timed eval>:1\u001b[0m, in \u001b[0;36m<module>\u001b[1;34m\u001b[0m\n",
      "Input \u001b[1;32mIn [64]\u001b[0m, in \u001b[0;36mresuelve_ocho_puzzle\u001b[1;34m(estado_inicial, algoritmo, h)\u001b[0m\n\u001b[0;32m     18\u001b[0m     sol\u001b[38;5;241m=\u001b[39m algoritmo(p8p,h)\u001b[38;5;241m.\u001b[39msolution()\n\u001b[0;32m     19\u001b[0m \u001b[38;5;28;01melse\u001b[39;00m: \n\u001b[1;32m---> 20\u001b[0m     sol\u001b[38;5;241m=\u001b[39m \u001b[43malgoritmo\u001b[49m\u001b[43m(\u001b[49m\u001b[43mp8p\u001b[49m\u001b[43m)\u001b[49m\u001b[38;5;241m.\u001b[39msolution()\n\u001b[0;32m     21\u001b[0m \u001b[38;5;28mprint\u001b[39m(\u001b[38;5;124m\"\u001b[39m\u001b[38;5;124mSolución: \u001b[39m\u001b[38;5;132;01m{0}\u001b[39;00m\u001b[38;5;124m\"\u001b[39m\u001b[38;5;241m.\u001b[39mformat(sol))\n\u001b[0;32m     22\u001b[0m \u001b[38;5;28mprint\u001b[39m(\u001b[38;5;124m\"\u001b[39m\u001b[38;5;124mAlgoritmo: \u001b[39m\u001b[38;5;132;01m{0}\u001b[39;00m\u001b[38;5;124m\"\u001b[39m\u001b[38;5;241m.\u001b[39mformat(algoritmo\u001b[38;5;241m.\u001b[39m\u001b[38;5;18m__name__\u001b[39m))\n",
      "File \u001b[1;32m~\\Documents\\Universidad\\IA\\IA1\\Practicas\\Sesion_2\\search.py:253\u001b[0m, in \u001b[0;36mbreadth_first_graph_search\u001b[1;34m(problem)\u001b[0m\n\u001b[0;32m    251\u001b[0m explored\u001b[38;5;241m.\u001b[39madd(node\u001b[38;5;241m.\u001b[39mstate)\n\u001b[0;32m    252\u001b[0m \u001b[38;5;28;01mfor\u001b[39;00m child \u001b[38;5;129;01min\u001b[39;00m node\u001b[38;5;241m.\u001b[39mexpand(problem):\n\u001b[1;32m--> 253\u001b[0m     \u001b[38;5;28;01mif\u001b[39;00m child\u001b[38;5;241m.\u001b[39mstate \u001b[38;5;129;01mnot\u001b[39;00m \u001b[38;5;129;01min\u001b[39;00m explored \u001b[38;5;129;01mand\u001b[39;00m \u001b[43mchild\u001b[49m\u001b[43m \u001b[49m\u001b[38;5;129;43;01mnot\u001b[39;49;00m\u001b[43m \u001b[49m\u001b[38;5;129;43;01min\u001b[39;49;00m\u001b[43m \u001b[49m\u001b[43mfrontier\u001b[49m:\n\u001b[0;32m    254\u001b[0m         \u001b[38;5;28;01mif\u001b[39;00m problem\u001b[38;5;241m.\u001b[39mgoal_test(child\u001b[38;5;241m.\u001b[39mstate):\n\u001b[0;32m    255\u001b[0m             \u001b[38;5;28;01mreturn\u001b[39;00m child\n",
      "File \u001b[1;32m~\\Documents\\Universidad\\IA\\IA1\\Practicas\\Sesion_2\\search.py:123\u001b[0m, in \u001b[0;36mNode.__eq__\u001b[1;34m(self, other)\u001b[0m\n\u001b[0;32m    122\u001b[0m \u001b[38;5;28;01mdef\u001b[39;00m \u001b[38;5;21m__eq__\u001b[39m(\u001b[38;5;28mself\u001b[39m, other):\n\u001b[1;32m--> 123\u001b[0m     \u001b[38;5;28;01mreturn\u001b[39;00m \u001b[38;5;28misinstance\u001b[39m(other, Node) \u001b[38;5;129;01mand\u001b[39;00m \u001b[38;5;28mself\u001b[39m\u001b[38;5;241m.\u001b[39mstate \u001b[38;5;241m==\u001b[39m \u001b[43mother\u001b[49m\u001b[38;5;241;43m.\u001b[39;49m\u001b[43mstate\u001b[49m\n",
      "\u001b[1;31mKeyboardInterrupt\u001b[0m: "
     ]
    },
    {
     "ename": "KeyboardInterrupt",
     "evalue": "",
     "output_type": "error",
     "traceback": [
      "\u001b[1;31m---------------------------------------------------------------------------\u001b[0m",
      "\u001b[1;31mKeyboardInterrupt\u001b[0m                         Traceback (most recent call last)",
      "File \u001b[1;32m<timed eval>:1\u001b[0m, in \u001b[0;36m<module>\u001b[1;34m\u001b[0m\n",
      "Input \u001b[1;32mIn [64]\u001b[0m, in \u001b[0;36mresuelve_ocho_puzzle\u001b[1;34m(estado_inicial, algoritmo, h)\u001b[0m\n\u001b[0;32m     18\u001b[0m     sol\u001b[38;5;241m=\u001b[39m algoritmo(p8p,h)\u001b[38;5;241m.\u001b[39msolution()\n\u001b[0;32m     19\u001b[0m \u001b[38;5;28;01melse\u001b[39;00m: \n\u001b[1;32m---> 20\u001b[0m     sol\u001b[38;5;241m=\u001b[39m \u001b[43malgoritmo\u001b[49m\u001b[43m(\u001b[49m\u001b[43mp8p\u001b[49m\u001b[43m)\u001b[49m\u001b[38;5;241m.\u001b[39msolution()\n\u001b[0;32m     21\u001b[0m \u001b[38;5;28mprint\u001b[39m(\u001b[38;5;124m\"\u001b[39m\u001b[38;5;124mSolución: \u001b[39m\u001b[38;5;132;01m{0}\u001b[39;00m\u001b[38;5;124m\"\u001b[39m\u001b[38;5;241m.\u001b[39mformat(sol))\n\u001b[0;32m     22\u001b[0m \u001b[38;5;28mprint\u001b[39m(\u001b[38;5;124m\"\u001b[39m\u001b[38;5;124mAlgoritmo: \u001b[39m\u001b[38;5;132;01m{0}\u001b[39;00m\u001b[38;5;124m\"\u001b[39m\u001b[38;5;241m.\u001b[39mformat(algoritmo\u001b[38;5;241m.\u001b[39m\u001b[38;5;18m__name__\u001b[39m))\n",
      "File \u001b[1;32m~\\Documents\\Universidad\\IA\\IA1\\Practicas\\Sesion_2\\search.py:253\u001b[0m, in \u001b[0;36mbreadth_first_graph_search\u001b[1;34m(problem)\u001b[0m\n\u001b[0;32m    251\u001b[0m explored\u001b[38;5;241m.\u001b[39madd(node\u001b[38;5;241m.\u001b[39mstate)\n\u001b[0;32m    252\u001b[0m \u001b[38;5;28;01mfor\u001b[39;00m child \u001b[38;5;129;01min\u001b[39;00m node\u001b[38;5;241m.\u001b[39mexpand(problem):\n\u001b[1;32m--> 253\u001b[0m     \u001b[38;5;28;01mif\u001b[39;00m child\u001b[38;5;241m.\u001b[39mstate \u001b[38;5;129;01mnot\u001b[39;00m \u001b[38;5;129;01min\u001b[39;00m explored \u001b[38;5;129;01mand\u001b[39;00m \u001b[43mchild\u001b[49m\u001b[43m \u001b[49m\u001b[38;5;129;43;01mnot\u001b[39;49;00m\u001b[43m \u001b[49m\u001b[38;5;129;43;01min\u001b[39;49;00m\u001b[43m \u001b[49m\u001b[43mfrontier\u001b[49m:\n\u001b[0;32m    254\u001b[0m         \u001b[38;5;28;01mif\u001b[39;00m problem\u001b[38;5;241m.\u001b[39mgoal_test(child\u001b[38;5;241m.\u001b[39mstate):\n\u001b[0;32m    255\u001b[0m             \u001b[38;5;28;01mreturn\u001b[39;00m child\n",
      "File \u001b[1;32m~\\Documents\\Universidad\\IA\\IA1\\Practicas\\Sesion_2\\search.py:123\u001b[0m, in \u001b[0;36mNode.__eq__\u001b[1;34m(self, other)\u001b[0m\n\u001b[0;32m    122\u001b[0m \u001b[38;5;28;01mdef\u001b[39;00m \u001b[38;5;21m__eq__\u001b[39m(\u001b[38;5;28mself\u001b[39m, other):\n\u001b[1;32m--> 123\u001b[0m     \u001b[38;5;28;01mreturn\u001b[39;00m \u001b[38;5;28misinstance\u001b[39m(other, Node) \u001b[38;5;129;01mand\u001b[39;00m \u001b[38;5;28;43mself\u001b[39;49m\u001b[38;5;241;43m.\u001b[39;49m\u001b[43mstate\u001b[49m \u001b[38;5;241m==\u001b[39m other\u001b[38;5;241m.\u001b[39mstate\n",
      "\u001b[1;31mKeyboardInterrupt\u001b[0m: "
     ]
    },
    {
     "ename": "KeyboardInterrupt",
     "evalue": "",
     "output_type": "error",
     "traceback": [
      "\u001b[1;31m---------------------------------------------------------------------------\u001b[0m",
      "\u001b[1;31mKeyboardInterrupt\u001b[0m                         Traceback (most recent call last)",
      "File \u001b[1;32m<timed eval>:1\u001b[0m, in \u001b[0;36m<module>\u001b[1;34m\u001b[0m\n",
      "Input \u001b[1;32mIn [64]\u001b[0m, in \u001b[0;36mresuelve_ocho_puzzle\u001b[1;34m(estado_inicial, algoritmo, h)\u001b[0m\n\u001b[0;32m     18\u001b[0m     sol\u001b[38;5;241m=\u001b[39m algoritmo(p8p,h)\u001b[38;5;241m.\u001b[39msolution()\n\u001b[0;32m     19\u001b[0m \u001b[38;5;28;01melse\u001b[39;00m: \n\u001b[1;32m---> 20\u001b[0m     sol\u001b[38;5;241m=\u001b[39m \u001b[43malgoritmo\u001b[49m\u001b[43m(\u001b[49m\u001b[43mp8p\u001b[49m\u001b[43m)\u001b[49m\u001b[38;5;241m.\u001b[39msolution()\n\u001b[0;32m     21\u001b[0m \u001b[38;5;28mprint\u001b[39m(\u001b[38;5;124m\"\u001b[39m\u001b[38;5;124mSolución: \u001b[39m\u001b[38;5;132;01m{0}\u001b[39;00m\u001b[38;5;124m\"\u001b[39m\u001b[38;5;241m.\u001b[39mformat(sol))\n\u001b[0;32m     22\u001b[0m \u001b[38;5;28mprint\u001b[39m(\u001b[38;5;124m\"\u001b[39m\u001b[38;5;124mAlgoritmo: \u001b[39m\u001b[38;5;132;01m{0}\u001b[39;00m\u001b[38;5;124m\"\u001b[39m\u001b[38;5;241m.\u001b[39mformat(algoritmo\u001b[38;5;241m.\u001b[39m\u001b[38;5;18m__name__\u001b[39m))\n",
      "File \u001b[1;32m~\\Documents\\Universidad\\IA\\IA1\\Practicas\\Sesion_2\\search.py:253\u001b[0m, in \u001b[0;36mbreadth_first_graph_search\u001b[1;34m(problem)\u001b[0m\n\u001b[0;32m    251\u001b[0m explored\u001b[38;5;241m.\u001b[39madd(node\u001b[38;5;241m.\u001b[39mstate)\n\u001b[0;32m    252\u001b[0m \u001b[38;5;28;01mfor\u001b[39;00m child \u001b[38;5;129;01min\u001b[39;00m node\u001b[38;5;241m.\u001b[39mexpand(problem):\n\u001b[1;32m--> 253\u001b[0m     \u001b[38;5;28;01mif\u001b[39;00m child\u001b[38;5;241m.\u001b[39mstate \u001b[38;5;129;01mnot\u001b[39;00m \u001b[38;5;129;01min\u001b[39;00m explored \u001b[38;5;129;01mand\u001b[39;00m \u001b[43mchild\u001b[49m\u001b[43m \u001b[49m\u001b[38;5;129;43;01mnot\u001b[39;49;00m\u001b[43m \u001b[49m\u001b[38;5;129;43;01min\u001b[39;49;00m\u001b[43m \u001b[49m\u001b[43mfrontier\u001b[49m:\n\u001b[0;32m    254\u001b[0m         \u001b[38;5;28;01mif\u001b[39;00m problem\u001b[38;5;241m.\u001b[39mgoal_test(child\u001b[38;5;241m.\u001b[39mstate):\n\u001b[0;32m    255\u001b[0m             \u001b[38;5;28;01mreturn\u001b[39;00m child\n",
      "File \u001b[1;32m~\\Documents\\Universidad\\IA\\IA1\\Practicas\\Sesion_2\\search.py:123\u001b[0m, in \u001b[0;36mNode.__eq__\u001b[1;34m(self, other)\u001b[0m\n\u001b[0;32m    122\u001b[0m \u001b[38;5;28;01mdef\u001b[39;00m \u001b[38;5;21m__eq__\u001b[39m(\u001b[38;5;28mself\u001b[39m, other):\n\u001b[1;32m--> 123\u001b[0m     \u001b[38;5;28;01mreturn\u001b[39;00m \u001b[38;5;28;43misinstance\u001b[39;49m(other, Node) \u001b[38;5;129;01mand\u001b[39;00m \u001b[38;5;28mself\u001b[39m\u001b[38;5;241m.\u001b[39mstate \u001b[38;5;241m==\u001b[39m other\u001b[38;5;241m.\u001b[39mstate\n",
      "\u001b[1;31mKeyboardInterrupt\u001b[0m: "
     ]
    }
   ],
   "source": [
    "%time resuelve_ocho_puzzle(e1, breadth_first_graph_search)\n",
    "%time resuelve_ocho_puzzle(e2, breadth_first_graph_search)\n",
    "%time resuelve_ocho_puzzle(e3, breadth_first_graph_search)\n",
    "%time resuelve_ocho_puzzle(e4, breadth_first_graph_search)\n",
    "%time resuelve_ocho_puzzle(e5, breadth_first_graph_search)"
   ]
  },
  {
   "cell_type": "code",
   "execution_count": null,
   "metadata": {},
   "outputs": [],
   "source": [
    "%time resuelve_ocho_puzzle(e1, depth_first_graph_search)\n",
    "%time resuelve_ocho_puzzle(e2, depth_first_graph_search)\n",
    "%time resuelve_ocho_puzzle(e3, depth_first_graph_search)\n",
    "%time resuelve_ocho_puzzle(e4, depth_first_graph_search)\n",
    "%time resuelve_ocho_puzzle(e5, depth_first_graph_search)\n"
   ]
  },
  {
   "cell_type": "code",
   "execution_count": 78,
   "metadata": {},
   "outputs": [
    {
     "name": "stdout",
     "output_type": "stream",
     "text": [
      "Este problema no tiene solucion. \n",
      "CPU times: total: 0 ns\n",
      "Wall time: 1 ms\n",
      "Este problema no tiene solucion. \n",
      "CPU times: total: 0 ns\n",
      "Wall time: 1 ms\n"
     ]
    },
    {
     "ename": "KeyboardInterrupt",
     "evalue": "",
     "output_type": "error",
     "traceback": [
      "\u001b[1;31m---------------------------------------------------------------------------\u001b[0m",
      "\u001b[1;31mKeyboardInterrupt\u001b[0m                         Traceback (most recent call last)",
      "File \u001b[1;32m<timed eval>:1\u001b[0m, in \u001b[0;36m<module>\u001b[1;34m\u001b[0m\n",
      "Input \u001b[1;32mIn [64]\u001b[0m, in \u001b[0;36mresuelve_ocho_puzzle\u001b[1;34m(estado_inicial, algoritmo, h)\u001b[0m\n\u001b[0;32m     18\u001b[0m     sol\u001b[38;5;241m=\u001b[39m algoritmo(p8p,h)\u001b[38;5;241m.\u001b[39msolution()\n\u001b[0;32m     19\u001b[0m \u001b[38;5;28;01melse\u001b[39;00m: \n\u001b[1;32m---> 20\u001b[0m     sol\u001b[38;5;241m=\u001b[39m \u001b[43malgoritmo\u001b[49m\u001b[43m(\u001b[49m\u001b[43mp8p\u001b[49m\u001b[43m)\u001b[49m\u001b[38;5;241m.\u001b[39msolution()\n\u001b[0;32m     21\u001b[0m \u001b[38;5;28mprint\u001b[39m(\u001b[38;5;124m\"\u001b[39m\u001b[38;5;124mSolución: \u001b[39m\u001b[38;5;132;01m{0}\u001b[39;00m\u001b[38;5;124m\"\u001b[39m\u001b[38;5;241m.\u001b[39mformat(sol))\n\u001b[0;32m     22\u001b[0m \u001b[38;5;28mprint\u001b[39m(\u001b[38;5;124m\"\u001b[39m\u001b[38;5;124mAlgoritmo: \u001b[39m\u001b[38;5;132;01m{0}\u001b[39;00m\u001b[38;5;124m\"\u001b[39m\u001b[38;5;241m.\u001b[39mformat(algoritmo\u001b[38;5;241m.\u001b[39m\u001b[38;5;18m__name__\u001b[39m))\n",
      "File \u001b[1;32m~\\Documents\\Universidad\\IA\\IA1\\Practicas\\Sesion_2\\search.py:292\u001b[0m, in \u001b[0;36muniform_cost_search\u001b[1;34m(problem, display)\u001b[0m\n\u001b[0;32m    290\u001b[0m \u001b[38;5;28;01mdef\u001b[39;00m \u001b[38;5;21muniform_cost_search\u001b[39m(problem, display\u001b[38;5;241m=\u001b[39m\u001b[38;5;28;01mFalse\u001b[39;00m):\n\u001b[0;32m    291\u001b[0m     \u001b[38;5;124;03m\"\"\"[Figure 3.14]\"\"\"\u001b[39;00m\n\u001b[1;32m--> 292\u001b[0m     \u001b[38;5;28;01mreturn\u001b[39;00m \u001b[43mbest_first_graph_search\u001b[49m\u001b[43m(\u001b[49m\u001b[43mproblem\u001b[49m\u001b[43m,\u001b[49m\u001b[43m \u001b[49m\u001b[38;5;28;43;01mlambda\u001b[39;49;00m\u001b[43m \u001b[49m\u001b[43mnode\u001b[49m\u001b[43m:\u001b[49m\u001b[43m \u001b[49m\u001b[43mnode\u001b[49m\u001b[38;5;241;43m.\u001b[39;49m\u001b[43mpath_cost\u001b[49m\u001b[43m,\u001b[49m\u001b[43m \u001b[49m\u001b[43mdisplay\u001b[49m\u001b[43m)\u001b[49m\n",
      "File \u001b[1;32m~\\Documents\\Universidad\\IA\\IA1\\Practicas\\Sesion_2\\search.py:281\u001b[0m, in \u001b[0;36mbest_first_graph_search\u001b[1;34m(problem, f, display)\u001b[0m\n\u001b[0;32m    279\u001b[0m explored\u001b[38;5;241m.\u001b[39madd(node\u001b[38;5;241m.\u001b[39mstate)\n\u001b[0;32m    280\u001b[0m \u001b[38;5;28;01mfor\u001b[39;00m child \u001b[38;5;129;01min\u001b[39;00m node\u001b[38;5;241m.\u001b[39mexpand(problem):\n\u001b[1;32m--> 281\u001b[0m     \u001b[38;5;28;01mif\u001b[39;00m child\u001b[38;5;241m.\u001b[39mstate \u001b[38;5;129;01mnot\u001b[39;00m \u001b[38;5;129;01min\u001b[39;00m explored \u001b[38;5;129;01mand\u001b[39;00m \u001b[43mchild\u001b[49m\u001b[43m \u001b[49m\u001b[38;5;129;43;01mnot\u001b[39;49;00m\u001b[43m \u001b[49m\u001b[38;5;129;43;01min\u001b[39;49;00m\u001b[43m \u001b[49m\u001b[43mfrontier\u001b[49m:\n\u001b[0;32m    282\u001b[0m         frontier\u001b[38;5;241m.\u001b[39mappend(child)\n\u001b[0;32m    283\u001b[0m     \u001b[38;5;28;01melif\u001b[39;00m child \u001b[38;5;129;01min\u001b[39;00m frontier:\n",
      "File \u001b[1;32m~\\Documents\\Universidad\\IA\\IA1\\Practicas\\Sesion_2\\utils.py:761\u001b[0m, in \u001b[0;36mPriorityQueue.__contains__\u001b[1;34m(self, key)\u001b[0m\n\u001b[0;32m    759\u001b[0m \u001b[38;5;28;01mdef\u001b[39;00m \u001b[38;5;21m__contains__\u001b[39m(\u001b[38;5;28mself\u001b[39m, key):\n\u001b[0;32m    760\u001b[0m     \u001b[38;5;124;03m\"\"\"Return True if the key is in PriorityQueue.\"\"\"\u001b[39;00m\n\u001b[1;32m--> 761\u001b[0m     \u001b[38;5;28;01mreturn\u001b[39;00m \u001b[38;5;28many\u001b[39m([item \u001b[38;5;241m==\u001b[39m key \u001b[38;5;28;01mfor\u001b[39;00m _, item \u001b[38;5;129;01min\u001b[39;00m \u001b[38;5;28mself\u001b[39m\u001b[38;5;241m.\u001b[39mheap])\n",
      "File \u001b[1;32m~\\Documents\\Universidad\\IA\\IA1\\Practicas\\Sesion_2\\utils.py:761\u001b[0m, in \u001b[0;36m<listcomp>\u001b[1;34m(.0)\u001b[0m\n\u001b[0;32m    759\u001b[0m \u001b[38;5;28;01mdef\u001b[39;00m \u001b[38;5;21m__contains__\u001b[39m(\u001b[38;5;28mself\u001b[39m, key):\n\u001b[0;32m    760\u001b[0m     \u001b[38;5;124;03m\"\"\"Return True if the key is in PriorityQueue.\"\"\"\u001b[39;00m\n\u001b[1;32m--> 761\u001b[0m     \u001b[38;5;28;01mreturn\u001b[39;00m \u001b[38;5;28many\u001b[39m([item \u001b[38;5;241m==\u001b[39m \u001b[43mkey\u001b[49m \u001b[38;5;28;01mfor\u001b[39;00m _, item \u001b[38;5;129;01min\u001b[39;00m \u001b[38;5;28mself\u001b[39m\u001b[38;5;241m.\u001b[39mheap])\n",
      "\u001b[1;31mKeyboardInterrupt\u001b[0m: "
     ]
    },
    {
     "ename": "KeyboardInterrupt",
     "evalue": "",
     "output_type": "error",
     "traceback": [
      "\u001b[1;31m---------------------------------------------------------------------------\u001b[0m",
      "\u001b[1;31mKeyboardInterrupt\u001b[0m                         Traceback (most recent call last)",
      "File \u001b[1;32m<timed eval>:1\u001b[0m, in \u001b[0;36m<module>\u001b[1;34m\u001b[0m\n",
      "Input \u001b[1;32mIn [64]\u001b[0m, in \u001b[0;36mresuelve_ocho_puzzle\u001b[1;34m(estado_inicial, algoritmo, h)\u001b[0m\n\u001b[0;32m     18\u001b[0m     sol\u001b[38;5;241m=\u001b[39m algoritmo(p8p,h)\u001b[38;5;241m.\u001b[39msolution()\n\u001b[0;32m     19\u001b[0m \u001b[38;5;28;01melse\u001b[39;00m: \n\u001b[1;32m---> 20\u001b[0m     sol\u001b[38;5;241m=\u001b[39m \u001b[43malgoritmo\u001b[49m\u001b[43m(\u001b[49m\u001b[43mp8p\u001b[49m\u001b[43m)\u001b[49m\u001b[38;5;241m.\u001b[39msolution()\n\u001b[0;32m     21\u001b[0m \u001b[38;5;28mprint\u001b[39m(\u001b[38;5;124m\"\u001b[39m\u001b[38;5;124mSolución: \u001b[39m\u001b[38;5;132;01m{0}\u001b[39;00m\u001b[38;5;124m\"\u001b[39m\u001b[38;5;241m.\u001b[39mformat(sol))\n\u001b[0;32m     22\u001b[0m \u001b[38;5;28mprint\u001b[39m(\u001b[38;5;124m\"\u001b[39m\u001b[38;5;124mAlgoritmo: \u001b[39m\u001b[38;5;132;01m{0}\u001b[39;00m\u001b[38;5;124m\"\u001b[39m\u001b[38;5;241m.\u001b[39mformat(algoritmo\u001b[38;5;241m.\u001b[39m\u001b[38;5;18m__name__\u001b[39m))\n",
      "File \u001b[1;32m~\\Documents\\Universidad\\IA\\IA1\\Practicas\\Sesion_2\\search.py:292\u001b[0m, in \u001b[0;36muniform_cost_search\u001b[1;34m(problem, display)\u001b[0m\n\u001b[0;32m    290\u001b[0m \u001b[38;5;28;01mdef\u001b[39;00m \u001b[38;5;21muniform_cost_search\u001b[39m(problem, display\u001b[38;5;241m=\u001b[39m\u001b[38;5;28;01mFalse\u001b[39;00m):\n\u001b[0;32m    291\u001b[0m     \u001b[38;5;124;03m\"\"\"[Figure 3.14]\"\"\"\u001b[39;00m\n\u001b[1;32m--> 292\u001b[0m     \u001b[38;5;28;01mreturn\u001b[39;00m \u001b[43mbest_first_graph_search\u001b[49m\u001b[43m(\u001b[49m\u001b[43mproblem\u001b[49m\u001b[43m,\u001b[49m\u001b[43m \u001b[49m\u001b[38;5;28;43;01mlambda\u001b[39;49;00m\u001b[43m \u001b[49m\u001b[43mnode\u001b[49m\u001b[43m:\u001b[49m\u001b[43m \u001b[49m\u001b[43mnode\u001b[49m\u001b[38;5;241;43m.\u001b[39;49m\u001b[43mpath_cost\u001b[49m\u001b[43m,\u001b[49m\u001b[43m \u001b[49m\u001b[43mdisplay\u001b[49m\u001b[43m)\u001b[49m\n",
      "File \u001b[1;32m~\\Documents\\Universidad\\IA\\IA1\\Practicas\\Sesion_2\\search.py:281\u001b[0m, in \u001b[0;36mbest_first_graph_search\u001b[1;34m(problem, f, display)\u001b[0m\n\u001b[0;32m    279\u001b[0m explored\u001b[38;5;241m.\u001b[39madd(node\u001b[38;5;241m.\u001b[39mstate)\n\u001b[0;32m    280\u001b[0m \u001b[38;5;28;01mfor\u001b[39;00m child \u001b[38;5;129;01min\u001b[39;00m node\u001b[38;5;241m.\u001b[39mexpand(problem):\n\u001b[1;32m--> 281\u001b[0m     \u001b[38;5;28;01mif\u001b[39;00m child\u001b[38;5;241m.\u001b[39mstate \u001b[38;5;129;01mnot\u001b[39;00m \u001b[38;5;129;01min\u001b[39;00m explored \u001b[38;5;129;01mand\u001b[39;00m \u001b[43mchild\u001b[49m\u001b[43m \u001b[49m\u001b[38;5;129;43;01mnot\u001b[39;49;00m\u001b[43m \u001b[49m\u001b[38;5;129;43;01min\u001b[39;49;00m\u001b[43m \u001b[49m\u001b[43mfrontier\u001b[49m:\n\u001b[0;32m    282\u001b[0m         frontier\u001b[38;5;241m.\u001b[39mappend(child)\n\u001b[0;32m    283\u001b[0m     \u001b[38;5;28;01melif\u001b[39;00m child \u001b[38;5;129;01min\u001b[39;00m frontier:\n",
      "File \u001b[1;32m~\\Documents\\Universidad\\IA\\IA1\\Practicas\\Sesion_2\\utils.py:761\u001b[0m, in \u001b[0;36mPriorityQueue.__contains__\u001b[1;34m(self, key)\u001b[0m\n\u001b[0;32m    759\u001b[0m \u001b[38;5;28;01mdef\u001b[39;00m \u001b[38;5;21m__contains__\u001b[39m(\u001b[38;5;28mself\u001b[39m, key):\n\u001b[0;32m    760\u001b[0m     \u001b[38;5;124;03m\"\"\"Return True if the key is in PriorityQueue.\"\"\"\u001b[39;00m\n\u001b[1;32m--> 761\u001b[0m     \u001b[38;5;28;01mreturn\u001b[39;00m \u001b[38;5;28many\u001b[39m([item \u001b[38;5;241m==\u001b[39m key \u001b[38;5;28;01mfor\u001b[39;00m _, item \u001b[38;5;129;01min\u001b[39;00m \u001b[38;5;28mself\u001b[39m\u001b[38;5;241m.\u001b[39mheap])\n",
      "File \u001b[1;32m~\\Documents\\Universidad\\IA\\IA1\\Practicas\\Sesion_2\\utils.py:761\u001b[0m, in \u001b[0;36m<listcomp>\u001b[1;34m(.0)\u001b[0m\n\u001b[0;32m    759\u001b[0m \u001b[38;5;28;01mdef\u001b[39;00m \u001b[38;5;21m__contains__\u001b[39m(\u001b[38;5;28mself\u001b[39m, key):\n\u001b[0;32m    760\u001b[0m     \u001b[38;5;124;03m\"\"\"Return True if the key is in PriorityQueue.\"\"\"\u001b[39;00m\n\u001b[1;32m--> 761\u001b[0m     \u001b[38;5;28;01mreturn\u001b[39;00m \u001b[38;5;28many\u001b[39m([\u001b[43mitem\u001b[49m\u001b[43m \u001b[49m\u001b[38;5;241;43m==\u001b[39;49m\u001b[43m \u001b[49m\u001b[43mkey\u001b[49m \u001b[38;5;28;01mfor\u001b[39;00m _, item \u001b[38;5;129;01min\u001b[39;00m \u001b[38;5;28mself\u001b[39m\u001b[38;5;241m.\u001b[39mheap])\n",
      "File \u001b[1;32m~\\Documents\\Universidad\\IA\\IA1\\Practicas\\Sesion_2\\search.py:123\u001b[0m, in \u001b[0;36mNode.__eq__\u001b[1;34m(self, other)\u001b[0m\n\u001b[0;32m    122\u001b[0m \u001b[38;5;28;01mdef\u001b[39;00m \u001b[38;5;21m__eq__\u001b[39m(\u001b[38;5;28mself\u001b[39m, other):\n\u001b[1;32m--> 123\u001b[0m     \u001b[38;5;28;01mreturn\u001b[39;00m \u001b[38;5;28misinstance\u001b[39m(other, Node) \u001b[38;5;129;01mand\u001b[39;00m \u001b[38;5;28mself\u001b[39m\u001b[38;5;241m.\u001b[39mstate \u001b[38;5;241m==\u001b[39m \u001b[43mother\u001b[49m\u001b[38;5;241;43m.\u001b[39;49m\u001b[43mstate\u001b[49m\n",
      "\u001b[1;31mKeyboardInterrupt\u001b[0m: "
     ]
    },
    {
     "ename": "KeyboardInterrupt",
     "evalue": "",
     "output_type": "error",
     "traceback": [
      "\u001b[1;31m---------------------------------------------------------------------------\u001b[0m",
      "\u001b[1;31mKeyboardInterrupt\u001b[0m                         Traceback (most recent call last)",
      "File \u001b[1;32m<timed eval>:1\u001b[0m, in \u001b[0;36m<module>\u001b[1;34m\u001b[0m\n",
      "Input \u001b[1;32mIn [64]\u001b[0m, in \u001b[0;36mresuelve_ocho_puzzle\u001b[1;34m(estado_inicial, algoritmo, h)\u001b[0m\n\u001b[0;32m     18\u001b[0m     sol\u001b[38;5;241m=\u001b[39m algoritmo(p8p,h)\u001b[38;5;241m.\u001b[39msolution()\n\u001b[0;32m     19\u001b[0m \u001b[38;5;28;01melse\u001b[39;00m: \n\u001b[1;32m---> 20\u001b[0m     sol\u001b[38;5;241m=\u001b[39m \u001b[43malgoritmo\u001b[49m\u001b[43m(\u001b[49m\u001b[43mp8p\u001b[49m\u001b[43m)\u001b[49m\u001b[38;5;241m.\u001b[39msolution()\n\u001b[0;32m     21\u001b[0m \u001b[38;5;28mprint\u001b[39m(\u001b[38;5;124m\"\u001b[39m\u001b[38;5;124mSolución: \u001b[39m\u001b[38;5;132;01m{0}\u001b[39;00m\u001b[38;5;124m\"\u001b[39m\u001b[38;5;241m.\u001b[39mformat(sol))\n\u001b[0;32m     22\u001b[0m \u001b[38;5;28mprint\u001b[39m(\u001b[38;5;124m\"\u001b[39m\u001b[38;5;124mAlgoritmo: \u001b[39m\u001b[38;5;132;01m{0}\u001b[39;00m\u001b[38;5;124m\"\u001b[39m\u001b[38;5;241m.\u001b[39mformat(algoritmo\u001b[38;5;241m.\u001b[39m\u001b[38;5;18m__name__\u001b[39m))\n",
      "File \u001b[1;32m~\\Documents\\Universidad\\IA\\IA1\\Practicas\\Sesion_2\\search.py:292\u001b[0m, in \u001b[0;36muniform_cost_search\u001b[1;34m(problem, display)\u001b[0m\n\u001b[0;32m    290\u001b[0m \u001b[38;5;28;01mdef\u001b[39;00m \u001b[38;5;21muniform_cost_search\u001b[39m(problem, display\u001b[38;5;241m=\u001b[39m\u001b[38;5;28;01mFalse\u001b[39;00m):\n\u001b[0;32m    291\u001b[0m     \u001b[38;5;124;03m\"\"\"[Figure 3.14]\"\"\"\u001b[39;00m\n\u001b[1;32m--> 292\u001b[0m     \u001b[38;5;28;01mreturn\u001b[39;00m \u001b[43mbest_first_graph_search\u001b[49m\u001b[43m(\u001b[49m\u001b[43mproblem\u001b[49m\u001b[43m,\u001b[49m\u001b[43m \u001b[49m\u001b[38;5;28;43;01mlambda\u001b[39;49;00m\u001b[43m \u001b[49m\u001b[43mnode\u001b[49m\u001b[43m:\u001b[49m\u001b[43m \u001b[49m\u001b[43mnode\u001b[49m\u001b[38;5;241;43m.\u001b[39;49m\u001b[43mpath_cost\u001b[49m\u001b[43m,\u001b[49m\u001b[43m \u001b[49m\u001b[43mdisplay\u001b[49m\u001b[43m)\u001b[49m\n",
      "File \u001b[1;32m~\\Documents\\Universidad\\IA\\IA1\\Practicas\\Sesion_2\\search.py:281\u001b[0m, in \u001b[0;36mbest_first_graph_search\u001b[1;34m(problem, f, display)\u001b[0m\n\u001b[0;32m    279\u001b[0m explored\u001b[38;5;241m.\u001b[39madd(node\u001b[38;5;241m.\u001b[39mstate)\n\u001b[0;32m    280\u001b[0m \u001b[38;5;28;01mfor\u001b[39;00m child \u001b[38;5;129;01min\u001b[39;00m node\u001b[38;5;241m.\u001b[39mexpand(problem):\n\u001b[1;32m--> 281\u001b[0m     \u001b[38;5;28;01mif\u001b[39;00m child\u001b[38;5;241m.\u001b[39mstate \u001b[38;5;129;01mnot\u001b[39;00m \u001b[38;5;129;01min\u001b[39;00m explored \u001b[38;5;129;01mand\u001b[39;00m \u001b[43mchild\u001b[49m\u001b[43m \u001b[49m\u001b[38;5;129;43;01mnot\u001b[39;49;00m\u001b[43m \u001b[49m\u001b[38;5;129;43;01min\u001b[39;49;00m\u001b[43m \u001b[49m\u001b[43mfrontier\u001b[49m:\n\u001b[0;32m    282\u001b[0m         frontier\u001b[38;5;241m.\u001b[39mappend(child)\n\u001b[0;32m    283\u001b[0m     \u001b[38;5;28;01melif\u001b[39;00m child \u001b[38;5;129;01min\u001b[39;00m frontier:\n",
      "File \u001b[1;32m~\\Documents\\Universidad\\IA\\IA1\\Practicas\\Sesion_2\\utils.py:761\u001b[0m, in \u001b[0;36mPriorityQueue.__contains__\u001b[1;34m(self, key)\u001b[0m\n\u001b[0;32m    759\u001b[0m \u001b[38;5;28;01mdef\u001b[39;00m \u001b[38;5;21m__contains__\u001b[39m(\u001b[38;5;28mself\u001b[39m, key):\n\u001b[0;32m    760\u001b[0m     \u001b[38;5;124;03m\"\"\"Return True if the key is in PriorityQueue.\"\"\"\u001b[39;00m\n\u001b[1;32m--> 761\u001b[0m     \u001b[38;5;28;01mreturn\u001b[39;00m \u001b[38;5;28many\u001b[39m([item \u001b[38;5;241m==\u001b[39m key \u001b[38;5;28;01mfor\u001b[39;00m _, item \u001b[38;5;129;01min\u001b[39;00m \u001b[38;5;28mself\u001b[39m\u001b[38;5;241m.\u001b[39mheap])\n",
      "File \u001b[1;32m~\\Documents\\Universidad\\IA\\IA1\\Practicas\\Sesion_2\\utils.py:761\u001b[0m, in \u001b[0;36m<listcomp>\u001b[1;34m(.0)\u001b[0m\n\u001b[0;32m    759\u001b[0m \u001b[38;5;28;01mdef\u001b[39;00m \u001b[38;5;21m__contains__\u001b[39m(\u001b[38;5;28mself\u001b[39m, key):\n\u001b[0;32m    760\u001b[0m     \u001b[38;5;124;03m\"\"\"Return True if the key is in PriorityQueue.\"\"\"\u001b[39;00m\n\u001b[1;32m--> 761\u001b[0m     \u001b[38;5;28;01mreturn\u001b[39;00m \u001b[38;5;28many\u001b[39m([item \u001b[38;5;241m==\u001b[39m \u001b[43mkey\u001b[49m \u001b[38;5;28;01mfor\u001b[39;00m _, item \u001b[38;5;129;01min\u001b[39;00m \u001b[38;5;28mself\u001b[39m\u001b[38;5;241m.\u001b[39mheap])\n",
      "\u001b[1;31mKeyboardInterrupt\u001b[0m: "
     ]
    }
   ],
   "source": [
    "%time resuelve_ocho_puzzle(e1,uniform_cost_search)\n",
    "%time resuelve_ocho_puzzle(e2,uniform_cost_search)\n",
    "%time resuelve_ocho_puzzle(e3,uniform_cost_search)\n",
    "%time resuelve_ocho_puzzle(e4,uniform_cost_search)\n",
    "%time resuelve_ocho_puzzle(e5,uniform_cost_search)"
   ]
  },
  {
   "cell_type": "code",
   "execution_count": 74,
   "metadata": {},
   "outputs": [
    {
     "name": "stdout",
     "output_type": "stream",
     "text": [
      "Este problema no tiene solucion. \n",
      "CPU times: total: 0 ns\n",
      "Wall time: 1 ms\n",
      "Este problema no tiene solucion. \n",
      "CPU times: total: 0 ns\n",
      "Wall time: 0 ns\n",
      "Solución: ['Mover hueco arriba', 'Mover hueco derecha', 'Mover hueco abajo', 'Mover hueco izquierda', 'Mover hueco izquierda', 'Mover hueco arriba', 'Mover hueco derecha', 'Mover hueco derecha', 'Mover hueco abajo', 'Mover hueco izquierda', 'Mover hueco abajo', 'Mover hueco derecha', 'Mover hueco arriba', 'Mover hueco izquierda', 'Mover hueco izquierda', 'Mover hueco abajo', 'Mover hueco derecha', 'Mover hueco derecha', 'Mover hueco arriba', 'Mover hueco izquierda', 'Mover hueco izquierda', 'Mover hueco arriba', 'Mover hueco derecha', 'Mover hueco abajo', 'Mover hueco derecha', 'Mover hueco arriba', 'Mover hueco izquierda', 'Mover hueco izquierda', 'Mover hueco abajo', 'Mover hueco derecha', 'Mover hueco derecha', 'Mover hueco arriba', 'Mover hueco izquierda', 'Mover hueco abajo', 'Mover hueco derecha', 'Mover hueco arriba', 'Mover hueco izquierda', 'Mover hueco abajo', 'Mover hueco derecha', 'Mover hueco abajo', 'Mover hueco izquierda', 'Mover hueco arriba', 'Mover hueco izquierda', 'Mover hueco abajo', 'Mover hueco derecha', 'Mover hueco derecha', 'Mover hueco arriba', 'Mover hueco izquierda', 'Mover hueco izquierda', 'Mover hueco abajo', 'Mover hueco derecha', 'Mover hueco arriba', 'Mover hueco derecha', 'Mover hueco abajo', 'Mover hueco izquierda', 'Mover hueco arriba', 'Mover hueco arriba', 'Mover hueco derecha', 'Mover hueco abajo', 'Mover hueco izquierda', 'Mover hueco arriba', 'Mover hueco derecha', 'Mover hueco abajo', 'Mover hueco izquierda', 'Mover hueco abajo', 'Mover hueco derecha', 'Mover hueco arriba', 'Mover hueco izquierda', 'Mover hueco abajo', 'Mover hueco izquierda', 'Mover hueco arriba', 'Mover hueco derecha', 'Mover hueco derecha', 'Mover hueco abajo', 'Mover hueco izquierda', 'Mover hueco izquierda', 'Mover hueco arriba', 'Mover hueco derecha', 'Mover hueco derecha', 'Mover hueco arriba', 'Mover hueco izquierda', 'Mover hueco abajo', 'Mover hueco abajo', 'Mover hueco derecha', 'Mover hueco arriba', 'Mover hueco izquierda', 'Mover hueco arriba', 'Mover hueco derecha', 'Mover hueco abajo', 'Mover hueco izquierda', 'Mover hueco izquierda', 'Mover hueco arriba', 'Mover hueco derecha', 'Mover hueco derecha', 'Mover hueco abajo', 'Mover hueco izquierda', 'Mover hueco arriba', 'Mover hueco izquierda', 'Mover hueco abajo', 'Mover hueco derecha', 'Mover hueco derecha', 'Mover hueco abajo']\n",
      "Algoritmo: best_first_graph_search\n",
      "Heurística: linear\n",
      "Longitud de la solución: 102. Nodos analizados: 777\n",
      "CPU times: total: 250 ms\n",
      "Wall time: 240 ms\n",
      "Solución: ['Mover hueco abajo', 'Mover hueco abajo', 'Mover hueco derecha', 'Mover hueco derecha', 'Mover hueco arriba', 'Mover hueco arriba', 'Mover hueco izquierda', 'Mover hueco izquierda', 'Mover hueco abajo', 'Mover hueco abajo', 'Mover hueco derecha', 'Mover hueco derecha', 'Mover hueco arriba', 'Mover hueco arriba', 'Mover hueco izquierda', 'Mover hueco izquierda', 'Mover hueco abajo', 'Mover hueco abajo', 'Mover hueco derecha', 'Mover hueco derecha', 'Mover hueco arriba', 'Mover hueco arriba', 'Mover hueco izquierda', 'Mover hueco izquierda', 'Mover hueco abajo', 'Mover hueco abajo', 'Mover hueco derecha', 'Mover hueco derecha']\n",
      "Algoritmo: best_first_graph_search\n",
      "Heurística: linear\n",
      "Longitud de la solución: 28. Nodos analizados: 29\n",
      "CPU times: total: 0 ns\n",
      "Wall time: 999 µs\n",
      "Solución: ['Mover hueco izquierda', 'Mover hueco abajo', 'Mover hueco abajo', 'Mover hueco derecha', 'Mover hueco derecha', 'Mover hueco arriba', 'Mover hueco izquierda', 'Mover hueco arriba', 'Mover hueco derecha', 'Mover hueco abajo', 'Mover hueco abajo', 'Mover hueco izquierda', 'Mover hueco arriba', 'Mover hueco arriba', 'Mover hueco derecha', 'Mover hueco abajo', 'Mover hueco abajo', 'Mover hueco izquierda', 'Mover hueco arriba', 'Mover hueco derecha', 'Mover hueco arriba', 'Mover hueco izquierda', 'Mover hueco abajo', 'Mover hueco abajo', 'Mover hueco derecha', 'Mover hueco arriba', 'Mover hueco arriba', 'Mover hueco izquierda', 'Mover hueco abajo', 'Mover hueco derecha', 'Mover hueco arriba', 'Mover hueco izquierda', 'Mover hueco abajo', 'Mover hueco derecha', 'Mover hueco abajo']\n",
      "Algoritmo: best_first_graph_search\n",
      "Heurística: linear\n",
      "Longitud de la solución: 35. Nodos analizados: 139\n",
      "CPU times: total: 0 ns\n",
      "Wall time: 10.1 ms\n"
     ]
    }
   ],
   "source": [
    "%time resuelve_ocho_puzzle(e1,best_first_graph_search, linear)\n",
    "%time resuelve_ocho_puzzle(e2,best_first_graph_search, linear)\n",
    "%time resuelve_ocho_puzzle(e3,best_first_graph_search, linear)\n",
    "%time resuelve_ocho_puzzle(e4,best_first_graph_search, linear)\n",
    "%time resuelve_ocho_puzzle(e5,best_first_graph_search, linear)"
   ]
  },
  {
   "cell_type": "code",
   "execution_count": 75,
   "metadata": {},
   "outputs": [
    {
     "name": "stdout",
     "output_type": "stream",
     "text": [
      "Este problema no tiene solucion. \n",
      "CPU times: total: 0 ns\n",
      "Wall time: 0 ns\n",
      "Este problema no tiene solucion. \n",
      "CPU times: total: 0 ns\n",
      "Wall time: 0 ns\n",
      "Solución: ['Mover hueco abajo', 'Mover hueco derecha', 'Mover hueco arriba', 'Mover hueco arriba', 'Mover hueco izquierda', 'Mover hueco abajo', 'Mover hueco izquierda', 'Mover hueco abajo', 'Mover hueco derecha', 'Mover hueco arriba', 'Mover hueco izquierda', 'Mover hueco arriba', 'Mover hueco derecha', 'Mover hueco derecha', 'Mover hueco abajo', 'Mover hueco izquierda', 'Mover hueco arriba', 'Mover hueco derecha', 'Mover hueco abajo', 'Mover hueco izquierda', 'Mover hueco izquierda', 'Mover hueco arriba', 'Mover hueco derecha', 'Mover hueco derecha', 'Mover hueco abajo', 'Mover hueco abajo', 'Mover hueco izquierda', 'Mover hueco arriba', 'Mover hueco derecha', 'Mover hueco arriba', 'Mover hueco izquierda', 'Mover hueco abajo', 'Mover hueco derecha', 'Mover hueco arriba', 'Mover hueco izquierda', 'Mover hueco abajo', 'Mover hueco abajo', 'Mover hueco derecha', 'Mover hueco arriba', 'Mover hueco arriba', 'Mover hueco izquierda', 'Mover hueco abajo', 'Mover hueco derecha', 'Mover hueco abajo', 'Mover hueco izquierda', 'Mover hueco arriba', 'Mover hueco izquierda', 'Mover hueco abajo', 'Mover hueco derecha', 'Mover hueco derecha', 'Mover hueco arriba', 'Mover hueco izquierda', 'Mover hueco izquierda', 'Mover hueco abajo', 'Mover hueco derecha', 'Mover hueco arriba', 'Mover hueco arriba', 'Mover hueco derecha', 'Mover hueco abajo', 'Mover hueco abajo', 'Mover hueco izquierda', 'Mover hueco arriba', 'Mover hueco arriba', 'Mover hueco derecha', 'Mover hueco abajo', 'Mover hueco izquierda', 'Mover hueco abajo', 'Mover hueco izquierda', 'Mover hueco arriba', 'Mover hueco derecha', 'Mover hueco arriba', 'Mover hueco derecha', 'Mover hueco abajo', 'Mover hueco izquierda', 'Mover hueco izquierda', 'Mover hueco abajo', 'Mover hueco derecha', 'Mover hueco arriba', 'Mover hueco derecha', 'Mover hueco abajo', 'Mover hueco izquierda', 'Mover hueco izquierda', 'Mover hueco arriba', 'Mover hueco derecha', 'Mover hueco derecha', 'Mover hueco abajo', 'Mover hueco izquierda', 'Mover hueco arriba', 'Mover hueco izquierda', 'Mover hueco abajo', 'Mover hueco derecha', 'Mover hueco derecha', 'Mover hueco arriba', 'Mover hueco arriba', 'Mover hueco izquierda', 'Mover hueco abajo', 'Mover hueco derecha', 'Mover hueco abajo', 'Mover hueco izquierda', 'Mover hueco arriba', 'Mover hueco derecha', 'Mover hueco arriba', 'Mover hueco izquierda', 'Mover hueco abajo', 'Mover hueco abajo', 'Mover hueco derecha', 'Mover hueco arriba', 'Mover hueco izquierda', 'Mover hueco arriba', 'Mover hueco derecha', 'Mover hueco abajo', 'Mover hueco abajo']\n",
      "Algoritmo: best_first_graph_search\n",
      "Heurística: manhattan\n",
      "Longitud de la solución: 112. Nodos analizados: 1341\n",
      "CPU times: total: 766 ms\n",
      "Wall time: 802 ms\n",
      "Solución: ['Mover hueco derecha', 'Mover hueco derecha', 'Mover hueco abajo', 'Mover hueco abajo', 'Mover hueco izquierda', 'Mover hueco izquierda', 'Mover hueco arriba', 'Mover hueco arriba', 'Mover hueco derecha', 'Mover hueco derecha', 'Mover hueco abajo', 'Mover hueco abajo', 'Mover hueco izquierda', 'Mover hueco izquierda', 'Mover hueco arriba', 'Mover hueco arriba', 'Mover hueco derecha', 'Mover hueco derecha', 'Mover hueco abajo', 'Mover hueco abajo', 'Mover hueco izquierda', 'Mover hueco izquierda', 'Mover hueco arriba', 'Mover hueco arriba', 'Mover hueco derecha', 'Mover hueco derecha', 'Mover hueco abajo', 'Mover hueco abajo']\n",
      "Algoritmo: best_first_graph_search\n",
      "Heurística: manhattan\n",
      "Longitud de la solución: 28. Nodos analizados: 35\n",
      "CPU times: total: 0 ns\n",
      "Wall time: 2 ms\n"
     ]
    }
   ],
   "source": [
    "%time resuelve_ocho_puzzle(e1,best_first_graph_search, manhattan)\n",
    "%time resuelve_ocho_puzzle(e2,best_first_graph_search, manhattan)\n",
    "%time resuelve_ocho_puzzle(e3,best_first_graph_search, manhattan)\n",
    "%time resuelve_ocho_puzzle(e4,best_first_graph_search, manhattan)"
   ]
  },
  {
   "cell_type": "code",
   "execution_count": 76,
   "metadata": {},
   "outputs": [
    {
     "name": "stdout",
     "output_type": "stream",
     "text": [
      "Este problema no tiene solucion. \n",
      "CPU times: total: 0 ns\n",
      "Wall time: 0 ns\n",
      "Este problema no tiene solucion. \n",
      "CPU times: total: 0 ns\n",
      "Wall time: 0 ns\n"
     ]
    },
    {
     "ename": "KeyboardInterrupt",
     "evalue": "",
     "output_type": "error",
     "traceback": [
      "\u001b[1;31m---------------------------------------------------------------------------\u001b[0m",
      "\u001b[1;31mKeyboardInterrupt\u001b[0m                         Traceback (most recent call last)",
      "File \u001b[1;32m<timed eval>:1\u001b[0m, in \u001b[0;36m<module>\u001b[1;34m\u001b[0m\n",
      "Input \u001b[1;32mIn [64]\u001b[0m, in \u001b[0;36mresuelve_ocho_puzzle\u001b[1;34m(estado_inicial, algoritmo, h)\u001b[0m\n\u001b[0;32m     16\u001b[0m \u001b[38;5;28;01mif\u001b[39;00m p8\u001b[38;5;241m.\u001b[39mcheck_solvability(estado_inicial):\n\u001b[0;32m     17\u001b[0m     \u001b[38;5;28;01mif\u001b[39;00m h: \n\u001b[1;32m---> 18\u001b[0m         sol\u001b[38;5;241m=\u001b[39m \u001b[43malgoritmo\u001b[49m\u001b[43m(\u001b[49m\u001b[43mp8p\u001b[49m\u001b[43m,\u001b[49m\u001b[43mh\u001b[49m\u001b[43m)\u001b[49m\u001b[38;5;241m.\u001b[39msolution()\n\u001b[0;32m     19\u001b[0m     \u001b[38;5;28;01melse\u001b[39;00m: \n\u001b[0;32m     20\u001b[0m         sol\u001b[38;5;241m=\u001b[39m algoritmo(p8p)\u001b[38;5;241m.\u001b[39msolution()\n",
      "File \u001b[1;32m~\\Documents\\Universidad\\IA\\IA1\\Practicas\\Sesion_2\\search.py:420\u001b[0m, in \u001b[0;36mastar_search\u001b[1;34m(problem, h, display)\u001b[0m\n\u001b[0;32m    416\u001b[0m \u001b[38;5;124;03m\"\"\"A* search is best-first graph search with f(n) = g(n)+h(n).\u001b[39;00m\n\u001b[0;32m    417\u001b[0m \u001b[38;5;124;03mYou need to specify the h function when you call astar_search, or\u001b[39;00m\n\u001b[0;32m    418\u001b[0m \u001b[38;5;124;03melse in your Problem subclass.\"\"\"\u001b[39;00m\n\u001b[0;32m    419\u001b[0m h \u001b[38;5;241m=\u001b[39m memoize(h \u001b[38;5;129;01mor\u001b[39;00m problem\u001b[38;5;241m.\u001b[39mh, \u001b[38;5;124m'\u001b[39m\u001b[38;5;124mh\u001b[39m\u001b[38;5;124m'\u001b[39m)\n\u001b[1;32m--> 420\u001b[0m \u001b[38;5;28;01mreturn\u001b[39;00m \u001b[43mbest_first_graph_search\u001b[49m\u001b[43m(\u001b[49m\u001b[43mproblem\u001b[49m\u001b[43m,\u001b[49m\u001b[43m \u001b[49m\u001b[38;5;28;43;01mlambda\u001b[39;49;00m\u001b[43m \u001b[49m\u001b[43mn\u001b[49m\u001b[43m:\u001b[49m\u001b[43m \u001b[49m\u001b[43mn\u001b[49m\u001b[38;5;241;43m.\u001b[39;49m\u001b[43mpath_cost\u001b[49m\u001b[43m \u001b[49m\u001b[38;5;241;43m+\u001b[39;49m\u001b[43m \u001b[49m\u001b[43mh\u001b[49m\u001b[43m(\u001b[49m\u001b[43mn\u001b[49m\u001b[43m)\u001b[49m\u001b[43m,\u001b[49m\u001b[43m \u001b[49m\u001b[43mdisplay\u001b[49m\u001b[43m)\u001b[49m\n",
      "File \u001b[1;32m~\\Documents\\Universidad\\IA\\IA1\\Practicas\\Sesion_2\\search.py:281\u001b[0m, in \u001b[0;36mbest_first_graph_search\u001b[1;34m(problem, f, display)\u001b[0m\n\u001b[0;32m    279\u001b[0m explored\u001b[38;5;241m.\u001b[39madd(node\u001b[38;5;241m.\u001b[39mstate)\n\u001b[0;32m    280\u001b[0m \u001b[38;5;28;01mfor\u001b[39;00m child \u001b[38;5;129;01min\u001b[39;00m node\u001b[38;5;241m.\u001b[39mexpand(problem):\n\u001b[1;32m--> 281\u001b[0m     \u001b[38;5;28;01mif\u001b[39;00m child\u001b[38;5;241m.\u001b[39mstate \u001b[38;5;129;01mnot\u001b[39;00m \u001b[38;5;129;01min\u001b[39;00m explored \u001b[38;5;129;01mand\u001b[39;00m \u001b[43mchild\u001b[49m\u001b[43m \u001b[49m\u001b[38;5;129;43;01mnot\u001b[39;49;00m\u001b[43m \u001b[49m\u001b[38;5;129;43;01min\u001b[39;49;00m\u001b[43m \u001b[49m\u001b[43mfrontier\u001b[49m:\n\u001b[0;32m    282\u001b[0m         frontier\u001b[38;5;241m.\u001b[39mappend(child)\n\u001b[0;32m    283\u001b[0m     \u001b[38;5;28;01melif\u001b[39;00m child \u001b[38;5;129;01min\u001b[39;00m frontier:\n",
      "File \u001b[1;32m~\\Documents\\Universidad\\IA\\IA1\\Practicas\\Sesion_2\\utils.py:761\u001b[0m, in \u001b[0;36mPriorityQueue.__contains__\u001b[1;34m(self, key)\u001b[0m\n\u001b[0;32m    759\u001b[0m \u001b[38;5;28;01mdef\u001b[39;00m \u001b[38;5;21m__contains__\u001b[39m(\u001b[38;5;28mself\u001b[39m, key):\n\u001b[0;32m    760\u001b[0m     \u001b[38;5;124;03m\"\"\"Return True if the key is in PriorityQueue.\"\"\"\u001b[39;00m\n\u001b[1;32m--> 761\u001b[0m     \u001b[38;5;28;01mreturn\u001b[39;00m \u001b[38;5;28many\u001b[39m([item \u001b[38;5;241m==\u001b[39m key \u001b[38;5;28;01mfor\u001b[39;00m _, item \u001b[38;5;129;01min\u001b[39;00m \u001b[38;5;28mself\u001b[39m\u001b[38;5;241m.\u001b[39mheap])\n",
      "File \u001b[1;32m~\\Documents\\Universidad\\IA\\IA1\\Practicas\\Sesion_2\\utils.py:761\u001b[0m, in \u001b[0;36m<listcomp>\u001b[1;34m(.0)\u001b[0m\n\u001b[0;32m    759\u001b[0m \u001b[38;5;28;01mdef\u001b[39;00m \u001b[38;5;21m__contains__\u001b[39m(\u001b[38;5;28mself\u001b[39m, key):\n\u001b[0;32m    760\u001b[0m     \u001b[38;5;124;03m\"\"\"Return True if the key is in PriorityQueue.\"\"\"\u001b[39;00m\n\u001b[1;32m--> 761\u001b[0m     \u001b[38;5;28;01mreturn\u001b[39;00m \u001b[38;5;28many\u001b[39m([\u001b[43mitem\u001b[49m\u001b[43m \u001b[49m\u001b[38;5;241;43m==\u001b[39;49m\u001b[43m \u001b[49m\u001b[43mkey\u001b[49m \u001b[38;5;28;01mfor\u001b[39;00m _, item \u001b[38;5;129;01min\u001b[39;00m \u001b[38;5;28mself\u001b[39m\u001b[38;5;241m.\u001b[39mheap])\n",
      "File \u001b[1;32m~\\Documents\\Universidad\\IA\\IA1\\Practicas\\Sesion_2\\search.py:123\u001b[0m, in \u001b[0;36mNode.__eq__\u001b[1;34m(self, other)\u001b[0m\n\u001b[0;32m    122\u001b[0m \u001b[38;5;28;01mdef\u001b[39;00m \u001b[38;5;21m__eq__\u001b[39m(\u001b[38;5;28mself\u001b[39m, other):\n\u001b[1;32m--> 123\u001b[0m     \u001b[38;5;28;01mreturn\u001b[39;00m \u001b[38;5;28;43misinstance\u001b[39;49m(other, Node) \u001b[38;5;129;01mand\u001b[39;00m \u001b[38;5;28mself\u001b[39m\u001b[38;5;241m.\u001b[39mstate \u001b[38;5;241m==\u001b[39m other\u001b[38;5;241m.\u001b[39mstate\n",
      "\u001b[1;31mKeyboardInterrupt\u001b[0m: "
     ]
    },
    {
     "ename": "KeyboardInterrupt",
     "evalue": "",
     "output_type": "error",
     "traceback": [
      "\u001b[1;31m---------------------------------------------------------------------------\u001b[0m",
      "\u001b[1;31mKeyboardInterrupt\u001b[0m                         Traceback (most recent call last)",
      "File \u001b[1;32m<timed eval>:1\u001b[0m, in \u001b[0;36m<module>\u001b[1;34m\u001b[0m\n",
      "Input \u001b[1;32mIn [64]\u001b[0m, in \u001b[0;36mresuelve_ocho_puzzle\u001b[1;34m(estado_inicial, algoritmo, h)\u001b[0m\n\u001b[0;32m     16\u001b[0m \u001b[38;5;28;01mif\u001b[39;00m p8\u001b[38;5;241m.\u001b[39mcheck_solvability(estado_inicial):\n\u001b[0;32m     17\u001b[0m     \u001b[38;5;28;01mif\u001b[39;00m h: \n\u001b[1;32m---> 18\u001b[0m         sol\u001b[38;5;241m=\u001b[39m \u001b[43malgoritmo\u001b[49m\u001b[43m(\u001b[49m\u001b[43mp8p\u001b[49m\u001b[43m,\u001b[49m\u001b[43mh\u001b[49m\u001b[43m)\u001b[49m\u001b[38;5;241m.\u001b[39msolution()\n\u001b[0;32m     19\u001b[0m     \u001b[38;5;28;01melse\u001b[39;00m: \n\u001b[0;32m     20\u001b[0m         sol\u001b[38;5;241m=\u001b[39m algoritmo(p8p)\u001b[38;5;241m.\u001b[39msolution()\n",
      "File \u001b[1;32m~\\Documents\\Universidad\\IA\\IA1\\Practicas\\Sesion_2\\search.py:420\u001b[0m, in \u001b[0;36mastar_search\u001b[1;34m(problem, h, display)\u001b[0m\n\u001b[0;32m    416\u001b[0m \u001b[38;5;124;03m\"\"\"A* search is best-first graph search with f(n) = g(n)+h(n).\u001b[39;00m\n\u001b[0;32m    417\u001b[0m \u001b[38;5;124;03mYou need to specify the h function when you call astar_search, or\u001b[39;00m\n\u001b[0;32m    418\u001b[0m \u001b[38;5;124;03melse in your Problem subclass.\"\"\"\u001b[39;00m\n\u001b[0;32m    419\u001b[0m h \u001b[38;5;241m=\u001b[39m memoize(h \u001b[38;5;129;01mor\u001b[39;00m problem\u001b[38;5;241m.\u001b[39mh, \u001b[38;5;124m'\u001b[39m\u001b[38;5;124mh\u001b[39m\u001b[38;5;124m'\u001b[39m)\n\u001b[1;32m--> 420\u001b[0m \u001b[38;5;28;01mreturn\u001b[39;00m \u001b[43mbest_first_graph_search\u001b[49m\u001b[43m(\u001b[49m\u001b[43mproblem\u001b[49m\u001b[43m,\u001b[49m\u001b[43m \u001b[49m\u001b[38;5;28;43;01mlambda\u001b[39;49;00m\u001b[43m \u001b[49m\u001b[43mn\u001b[49m\u001b[43m:\u001b[49m\u001b[43m \u001b[49m\u001b[43mn\u001b[49m\u001b[38;5;241;43m.\u001b[39;49m\u001b[43mpath_cost\u001b[49m\u001b[43m \u001b[49m\u001b[38;5;241;43m+\u001b[39;49m\u001b[43m \u001b[49m\u001b[43mh\u001b[49m\u001b[43m(\u001b[49m\u001b[43mn\u001b[49m\u001b[43m)\u001b[49m\u001b[43m,\u001b[49m\u001b[43m \u001b[49m\u001b[43mdisplay\u001b[49m\u001b[43m)\u001b[49m\n",
      "File \u001b[1;32m~\\Documents\\Universidad\\IA\\IA1\\Practicas\\Sesion_2\\search.py:281\u001b[0m, in \u001b[0;36mbest_first_graph_search\u001b[1;34m(problem, f, display)\u001b[0m\n\u001b[0;32m    279\u001b[0m explored\u001b[38;5;241m.\u001b[39madd(node\u001b[38;5;241m.\u001b[39mstate)\n\u001b[0;32m    280\u001b[0m \u001b[38;5;28;01mfor\u001b[39;00m child \u001b[38;5;129;01min\u001b[39;00m node\u001b[38;5;241m.\u001b[39mexpand(problem):\n\u001b[1;32m--> 281\u001b[0m     \u001b[38;5;28;01mif\u001b[39;00m child\u001b[38;5;241m.\u001b[39mstate \u001b[38;5;129;01mnot\u001b[39;00m \u001b[38;5;129;01min\u001b[39;00m explored \u001b[38;5;129;01mand\u001b[39;00m \u001b[43mchild\u001b[49m\u001b[43m \u001b[49m\u001b[38;5;129;43;01mnot\u001b[39;49;00m\u001b[43m \u001b[49m\u001b[38;5;129;43;01min\u001b[39;49;00m\u001b[43m \u001b[49m\u001b[43mfrontier\u001b[49m:\n\u001b[0;32m    282\u001b[0m         frontier\u001b[38;5;241m.\u001b[39mappend(child)\n\u001b[0;32m    283\u001b[0m     \u001b[38;5;28;01melif\u001b[39;00m child \u001b[38;5;129;01min\u001b[39;00m frontier:\n",
      "File \u001b[1;32m~\\Documents\\Universidad\\IA\\IA1\\Practicas\\Sesion_2\\utils.py:761\u001b[0m, in \u001b[0;36mPriorityQueue.__contains__\u001b[1;34m(self, key)\u001b[0m\n\u001b[0;32m    759\u001b[0m \u001b[38;5;28;01mdef\u001b[39;00m \u001b[38;5;21m__contains__\u001b[39m(\u001b[38;5;28mself\u001b[39m, key):\n\u001b[0;32m    760\u001b[0m     \u001b[38;5;124;03m\"\"\"Return True if the key is in PriorityQueue.\"\"\"\u001b[39;00m\n\u001b[1;32m--> 761\u001b[0m     \u001b[38;5;28;01mreturn\u001b[39;00m \u001b[38;5;28many\u001b[39m([item \u001b[38;5;241m==\u001b[39m key \u001b[38;5;28;01mfor\u001b[39;00m _, item \u001b[38;5;129;01min\u001b[39;00m \u001b[38;5;28mself\u001b[39m\u001b[38;5;241m.\u001b[39mheap])\n",
      "File \u001b[1;32m~\\Documents\\Universidad\\IA\\IA1\\Practicas\\Sesion_2\\utils.py:761\u001b[0m, in \u001b[0;36m<listcomp>\u001b[1;34m(.0)\u001b[0m\n\u001b[0;32m    759\u001b[0m \u001b[38;5;28;01mdef\u001b[39;00m \u001b[38;5;21m__contains__\u001b[39m(\u001b[38;5;28mself\u001b[39m, key):\n\u001b[0;32m    760\u001b[0m     \u001b[38;5;124;03m\"\"\"Return True if the key is in PriorityQueue.\"\"\"\u001b[39;00m\n\u001b[1;32m--> 761\u001b[0m     \u001b[38;5;28;01mreturn\u001b[39;00m \u001b[38;5;28many\u001b[39m([\u001b[43mitem\u001b[49m\u001b[43m \u001b[49m\u001b[38;5;241;43m==\u001b[39;49m\u001b[43m \u001b[49m\u001b[43mkey\u001b[49m \u001b[38;5;28;01mfor\u001b[39;00m _, item \u001b[38;5;129;01min\u001b[39;00m \u001b[38;5;28mself\u001b[39m\u001b[38;5;241m.\u001b[39mheap])\n",
      "File \u001b[1;32m~\\Documents\\Universidad\\IA\\IA1\\Practicas\\Sesion_2\\search.py:123\u001b[0m, in \u001b[0;36mNode.__eq__\u001b[1;34m(self, other)\u001b[0m\n\u001b[0;32m    122\u001b[0m \u001b[38;5;28;01mdef\u001b[39;00m \u001b[38;5;21m__eq__\u001b[39m(\u001b[38;5;28mself\u001b[39m, other):\n\u001b[1;32m--> 123\u001b[0m     \u001b[38;5;28;01mreturn\u001b[39;00m \u001b[38;5;28misinstance\u001b[39m(other, Node) \u001b[38;5;129;01mand\u001b[39;00m \u001b[38;5;28;43mself\u001b[39;49m\u001b[38;5;241;43m.\u001b[39;49m\u001b[43mstate\u001b[49m \u001b[38;5;241m==\u001b[39m other\u001b[38;5;241m.\u001b[39mstate\n",
      "\u001b[1;31mKeyboardInterrupt\u001b[0m: "
     ]
    }
   ],
   "source": [
    "%time resuelve_ocho_puzzle(e1,astar_search, linear)\n",
    "%time resuelve_ocho_puzzle(e2,astar_search, linear)\n",
    "%time resuelve_ocho_puzzle(e3,astar_search, linear)\n",
    "%time resuelve_ocho_puzzle(e4,astar_search, linear)"
   ]
  },
  {
   "cell_type": "code",
   "execution_count": 77,
   "metadata": {},
   "outputs": [
    {
     "name": "stdout",
     "output_type": "stream",
     "text": [
      "Este problema no tiene solucion. \n",
      "CPU times: total: 0 ns\n",
      "Wall time: 0 ns\n",
      "Este problema no tiene solucion. \n",
      "CPU times: total: 0 ns\n",
      "Wall time: 0 ns\n"
     ]
    },
    {
     "ename": "KeyboardInterrupt",
     "evalue": "",
     "output_type": "error",
     "traceback": [
      "\u001b[1;31m---------------------------------------------------------------------------\u001b[0m",
      "\u001b[1;31mKeyboardInterrupt\u001b[0m                         Traceback (most recent call last)",
      "File \u001b[1;32m<timed eval>:1\u001b[0m, in \u001b[0;36m<module>\u001b[1;34m\u001b[0m\n",
      "Input \u001b[1;32mIn [64]\u001b[0m, in \u001b[0;36mresuelve_ocho_puzzle\u001b[1;34m(estado_inicial, algoritmo, h)\u001b[0m\n\u001b[0;32m     16\u001b[0m \u001b[38;5;28;01mif\u001b[39;00m p8\u001b[38;5;241m.\u001b[39mcheck_solvability(estado_inicial):\n\u001b[0;32m     17\u001b[0m     \u001b[38;5;28;01mif\u001b[39;00m h: \n\u001b[1;32m---> 18\u001b[0m         sol\u001b[38;5;241m=\u001b[39m \u001b[43malgoritmo\u001b[49m\u001b[43m(\u001b[49m\u001b[43mp8p\u001b[49m\u001b[43m,\u001b[49m\u001b[43mh\u001b[49m\u001b[43m)\u001b[49m\u001b[38;5;241m.\u001b[39msolution()\n\u001b[0;32m     19\u001b[0m     \u001b[38;5;28;01melse\u001b[39;00m: \n\u001b[0;32m     20\u001b[0m         sol\u001b[38;5;241m=\u001b[39m algoritmo(p8p)\u001b[38;5;241m.\u001b[39msolution()\n",
      "File \u001b[1;32m~\\Documents\\Universidad\\IA\\IA1\\Practicas\\Sesion_2\\search.py:420\u001b[0m, in \u001b[0;36mastar_search\u001b[1;34m(problem, h, display)\u001b[0m\n\u001b[0;32m    416\u001b[0m \u001b[38;5;124;03m\"\"\"A* search is best-first graph search with f(n) = g(n)+h(n).\u001b[39;00m\n\u001b[0;32m    417\u001b[0m \u001b[38;5;124;03mYou need to specify the h function when you call astar_search, or\u001b[39;00m\n\u001b[0;32m    418\u001b[0m \u001b[38;5;124;03melse in your Problem subclass.\"\"\"\u001b[39;00m\n\u001b[0;32m    419\u001b[0m h \u001b[38;5;241m=\u001b[39m memoize(h \u001b[38;5;129;01mor\u001b[39;00m problem\u001b[38;5;241m.\u001b[39mh, \u001b[38;5;124m'\u001b[39m\u001b[38;5;124mh\u001b[39m\u001b[38;5;124m'\u001b[39m)\n\u001b[1;32m--> 420\u001b[0m \u001b[38;5;28;01mreturn\u001b[39;00m \u001b[43mbest_first_graph_search\u001b[49m\u001b[43m(\u001b[49m\u001b[43mproblem\u001b[49m\u001b[43m,\u001b[49m\u001b[43m \u001b[49m\u001b[38;5;28;43;01mlambda\u001b[39;49;00m\u001b[43m \u001b[49m\u001b[43mn\u001b[49m\u001b[43m:\u001b[49m\u001b[43m \u001b[49m\u001b[43mn\u001b[49m\u001b[38;5;241;43m.\u001b[39;49m\u001b[43mpath_cost\u001b[49m\u001b[43m \u001b[49m\u001b[38;5;241;43m+\u001b[39;49m\u001b[43m \u001b[49m\u001b[43mh\u001b[49m\u001b[43m(\u001b[49m\u001b[43mn\u001b[49m\u001b[43m)\u001b[49m\u001b[43m,\u001b[49m\u001b[43m \u001b[49m\u001b[43mdisplay\u001b[49m\u001b[43m)\u001b[49m\n",
      "File \u001b[1;32m~\\Documents\\Universidad\\IA\\IA1\\Practicas\\Sesion_2\\search.py:281\u001b[0m, in \u001b[0;36mbest_first_graph_search\u001b[1;34m(problem, f, display)\u001b[0m\n\u001b[0;32m    279\u001b[0m explored\u001b[38;5;241m.\u001b[39madd(node\u001b[38;5;241m.\u001b[39mstate)\n\u001b[0;32m    280\u001b[0m \u001b[38;5;28;01mfor\u001b[39;00m child \u001b[38;5;129;01min\u001b[39;00m node\u001b[38;5;241m.\u001b[39mexpand(problem):\n\u001b[1;32m--> 281\u001b[0m     \u001b[38;5;28;01mif\u001b[39;00m child\u001b[38;5;241m.\u001b[39mstate \u001b[38;5;129;01mnot\u001b[39;00m \u001b[38;5;129;01min\u001b[39;00m explored \u001b[38;5;129;01mand\u001b[39;00m \u001b[43mchild\u001b[49m\u001b[43m \u001b[49m\u001b[38;5;129;43;01mnot\u001b[39;49;00m\u001b[43m \u001b[49m\u001b[38;5;129;43;01min\u001b[39;49;00m\u001b[43m \u001b[49m\u001b[43mfrontier\u001b[49m:\n\u001b[0;32m    282\u001b[0m         frontier\u001b[38;5;241m.\u001b[39mappend(child)\n\u001b[0;32m    283\u001b[0m     \u001b[38;5;28;01melif\u001b[39;00m child \u001b[38;5;129;01min\u001b[39;00m frontier:\n",
      "File \u001b[1;32m~\\Documents\\Universidad\\IA\\IA1\\Practicas\\Sesion_2\\utils.py:761\u001b[0m, in \u001b[0;36mPriorityQueue.__contains__\u001b[1;34m(self, key)\u001b[0m\n\u001b[0;32m    759\u001b[0m \u001b[38;5;28;01mdef\u001b[39;00m \u001b[38;5;21m__contains__\u001b[39m(\u001b[38;5;28mself\u001b[39m, key):\n\u001b[0;32m    760\u001b[0m     \u001b[38;5;124;03m\"\"\"Return True if the key is in PriorityQueue.\"\"\"\u001b[39;00m\n\u001b[1;32m--> 761\u001b[0m     \u001b[38;5;28;01mreturn\u001b[39;00m \u001b[38;5;28many\u001b[39m([item \u001b[38;5;241m==\u001b[39m key \u001b[38;5;28;01mfor\u001b[39;00m _, item \u001b[38;5;129;01min\u001b[39;00m \u001b[38;5;28mself\u001b[39m\u001b[38;5;241m.\u001b[39mheap])\n",
      "File \u001b[1;32m~\\Documents\\Universidad\\IA\\IA1\\Practicas\\Sesion_2\\utils.py:761\u001b[0m, in \u001b[0;36m<listcomp>\u001b[1;34m(.0)\u001b[0m\n\u001b[0;32m    759\u001b[0m \u001b[38;5;28;01mdef\u001b[39;00m \u001b[38;5;21m__contains__\u001b[39m(\u001b[38;5;28mself\u001b[39m, key):\n\u001b[0;32m    760\u001b[0m     \u001b[38;5;124;03m\"\"\"Return True if the key is in PriorityQueue.\"\"\"\u001b[39;00m\n\u001b[1;32m--> 761\u001b[0m     \u001b[38;5;28;01mreturn\u001b[39;00m \u001b[38;5;28many\u001b[39m([\u001b[43mitem\u001b[49m\u001b[43m \u001b[49m\u001b[38;5;241;43m==\u001b[39;49m\u001b[43m \u001b[49m\u001b[43mkey\u001b[49m \u001b[38;5;28;01mfor\u001b[39;00m _, item \u001b[38;5;129;01min\u001b[39;00m \u001b[38;5;28mself\u001b[39m\u001b[38;5;241m.\u001b[39mheap])\n",
      "File \u001b[1;32m~\\Documents\\Universidad\\IA\\IA1\\Practicas\\Sesion_2\\search.py:123\u001b[0m, in \u001b[0;36mNode.__eq__\u001b[1;34m(self, other)\u001b[0m\n\u001b[0;32m    122\u001b[0m \u001b[38;5;28;01mdef\u001b[39;00m \u001b[38;5;21m__eq__\u001b[39m(\u001b[38;5;28mself\u001b[39m, other):\n\u001b[1;32m--> 123\u001b[0m     \u001b[38;5;28;01mreturn\u001b[39;00m \u001b[38;5;28misinstance\u001b[39m(other, Node) \u001b[38;5;129;01mand\u001b[39;00m \u001b[38;5;28mself\u001b[39m\u001b[38;5;241m.\u001b[39mstate \u001b[38;5;241m==\u001b[39m \u001b[43mother\u001b[49m\u001b[38;5;241;43m.\u001b[39;49m\u001b[43mstate\u001b[49m\n",
      "\u001b[1;31mKeyboardInterrupt\u001b[0m: "
     ]
    },
    {
     "name": "stdout",
     "output_type": "stream",
     "text": [
      "Solución: ['Mover hueco abajo', 'Mover hueco abajo', 'Mover hueco derecha', 'Mover hueco derecha', 'Mover hueco arriba', 'Mover hueco arriba', 'Mover hueco izquierda', 'Mover hueco izquierda', 'Mover hueco abajo', 'Mover hueco abajo', 'Mover hueco derecha', 'Mover hueco derecha', 'Mover hueco arriba', 'Mover hueco arriba', 'Mover hueco izquierda', 'Mover hueco izquierda', 'Mover hueco abajo', 'Mover hueco abajo', 'Mover hueco derecha', 'Mover hueco derecha', 'Mover hueco arriba', 'Mover hueco arriba', 'Mover hueco izquierda', 'Mover hueco izquierda', 'Mover hueco abajo', 'Mover hueco abajo', 'Mover hueco derecha', 'Mover hueco derecha']\n",
      "Algoritmo: astar_search\n",
      "Heurística: manhattan\n",
      "Longitud de la solución: 28. Nodos analizados: 3444\n",
      "CPU times: total: 4.17 s\n",
      "Wall time: 4.17 s\n"
     ]
    }
   ],
   "source": [
    "%time resuelve_ocho_puzzle(e1,astar_search, manhattan)\n",
    "%time resuelve_ocho_puzzle(e2,astar_search, manhattan)\n",
    "%time resuelve_ocho_puzzle(e3,astar_search, manhattan)\n",
    "%time resuelve_ocho_puzzle(e4,astar_search, manhattan)"
   ]
  },
  {
   "cell_type": "markdown",
   "metadata": {},
   "source": [
    "### Ejercicio 6:  resolver usando las distintas búsquedas y en su caso, las distintas heurísticas, el problema del 8 puzzle para los siguientes estados iniciales:\n",
    "\n",
    "          E1              E2              E3              E4               E5\n",
    "           \n",
    "     +---+---+---+   +---+---+---+   +---+---+---+   +---+---+---+    +---+---+---+  \n",
    "     | 7 | 2 | 4 |   | 4 | 5 | 6 |   | 5 | 3 | 1 |   | H | 8 | 7 |    | 8 | H | 3 |\n",
    "     +---+---+---+   +---+---+---+   +---+---+---+   +---+---+---+    +---+---+---+\n",
    "     | 3 | 6 | 1 |   | 1 | 0 | 3 |   | 8 | 0 | 4 |   | 6 | 5 | 4 |    | 1 | 2 | 6 |\n",
    "     +---+---+---+   +---+---+---+   +---+---+---+   +---+---+---+    +---+---+---+\n",
    "     | 8 | H | 5 |   | 7 | 8 | 2 |   | 6 | 2 | 7 |   | 3 | 2 | 1 |    | 4 | 7 | 5 |\n",
    "     +---+---+---+   +---+---+---+   +---+---+---+   +---+---+---+    +---+---+---+\n",
    "   \n",
    " Se pide, en cada caso, obtener detalles del tiempo y espacio necesario para la resolución de estos estados.\n",
    " Hacerlo con la función resuelve_ocho_puzzle, para\n",
    " obtener, además de la solución, la longitud (el coste) de la solución\n",
    " obtenida y el número de nodos analizados. Anotar los resultados en la siguiente tabla (L, longitud de la solución, NA, nodos analizados, T, tiempo)\n",
    " \n",
    "-----------------------------------------------------------------------------------------\n",
    "                                       E1           E2           E3          E4        E5\n",
    "    Anchura                            L=           L=           L=          L=        L=\n",
    "                                       T=           T=           T=          T=        T=\n",
    "                                       NA=          NA=          NA=         NA=       NA=\n",
    "   \n",
    "    Profundidad                        L=           L=           L=          L=        L=\n",
    "                                       T=           T=           T=          T=        T=\n",
    "                                       NA=          NA=          NA=         NA=       NA=\n",
    "                                       \n",
    "    Coste Uniforme                     L=           L=           L=          L=        L=\n",
    "                                       T=           T=           T=          T=        T=\n",
    "                                       NA=          NA=          NA=         NA=       NA=\n",
    "                                       \n",
    "    Primero el mejor (linear)          L=           L=           L=          L=        L=\n",
    "                                       T=           T=           T=          T=        T= \n",
    "                                       NA=          NA=          NA=         NA=       NA= \n",
    "                                                                            \n",
    "    Primero el mejor (manhattan)       L=           L=           L=          L= \n",
    "                                       T=           T=           T=          T=  \n",
    "                                       NA=          NA=          NA=         NA=\n",
    "                                                                             \n",
    "    A* (linear)                        L=           L=           L=          L= \n",
    "                                       T=           T=           T=          T=  \n",
    "                                       NA=          NA=          NA=         NA=\n",
    "                                                                             \n",
    "    A* (manhattan)                     L=           L=           L=          L=\n",
    "                                       T=           T=           T=          T=\n",
    "                                       NA=          NA=          NA=         NA=\n",
    "\n",
    "\n",
    " -----------------------------------------------------------------------------------------\n",
    "PUEDES AMPLIAR LA TABLA CON PRUEBAS ADICIONALES. \n",
    "\n",
    "Escribe aquí tus conclusiones \n",
    "\n",
    " **justificar los resultados con las distintas propiedades teóricas estudiadas en clase**.  \n",
    "\n"
   ]
  },
  {
   "cell_type": "markdown",
   "metadata": {},
   "source": [
    "### Ejercicio 7:  resolver usando distintas búsquedas y/o heurísticas, el problema del 16 puzzle para algunos  estados iniciales:\n",
    "\n",
    "Se mantienen las mismas propiedades que con el puzzle de 8, linear funciona bien con estados iniciales en las que las fichas estan muy cerca de su posicion final, pero manhattan esta mas informada para soluciones en las que la ficha esta alejada de su posicion final\n"
   ]
  },
  {
   "cell_type": "code",
   "execution_count": 84,
   "metadata": {},
   "outputs": [],
   "source": [
    "def linear2(node):\n",
    "    #goal = node.state.goal\n",
    "    goal = (1,2,3,4,5,6,7,8,9,10,11,12,13,14,15,0)\n",
    "    mal_colocados = 0\n",
    "    for i in range(len(goal)):\n",
    "        if node.state.index(i) != goal.index(i):\n",
    "            mal_colocados +=1\n",
    "    return mal_colocados\n",
    "\n",
    "\n",
    "\n",
    "def manhattan2(node):\n",
    "    state = node.state\n",
    "    mhd = 0\n",
    "    goal = (1,2,3,4,5,6,7,8,9,10,11,12,13,14,15,0)\n",
    "    for i in range(len(state)):\n",
    "        if(state.index(i) != goal.index(i)):\n",
    "            mhd += int((abs(i -goal.index(state[i]))/4) + ((abs(i-goal.index(state[i]))))%4)\n",
    "            # / 4 para saber la distancia vertical\n",
    "            # % 4 para saber la distancia horizontal\n",
    "    \n",
    "    return mhd\n",
    "                \n",
    "def sqrt_manhattan2(node):\n",
    "    state = node.state\n",
    "    return math.sqrt(manhattan2(node))\n",
    "\n",
    "def max_heuristic2(node):\n",
    "    score1 = manhattan2(node)\n",
    "    score2 = linear2(node)\n",
    "    return max(score1, score2)\n",
    "\n",
    "def resuelve_quince_puzzle(estado_inicial, algoritmo, h=None):\n",
    "    p15=Quince_Puzzle(estado_inicial)\n",
    "    p15p=Problema_con_Analizados(p15)\n",
    "    if p15.check_solvability(estado_inicial):\n",
    "        if h: \n",
    "            sol= algoritmo(p15p,h).solution()\n",
    "        else: \n",
    "            sol= algoritmo(p15p).solution()\n",
    "        print(\"Solución: {0}\".format(sol))\n",
    "        print(\"Algoritmo: {0}\".format(algoritmo.__name__))\n",
    "        if h: \n",
    "            print(\"Heurística: {0}\".format(h.__name__))\n",
    "        else:\n",
    "            pass\n",
    "        print(\"Longitud de la solución: {0}. Nodos analizados: {1}\".format(len(sol),p15p.analizados))\n",
    "    else: \n",
    "        print(\"Este problema no tiene solucion. \")"
   ]
  },
  {
   "cell_type": "code",
   "execution_count": 86,
   "metadata": {},
   "outputs": [],
   "source": [
    "e6 = (1,2,3,4,5,6,12,8,9,10,11,14,13,7,0,15)\n",
    "e7 = (0,2,3,4,7,6,12,5,9,10,11,1,13,8,14,15)\n",
    "e8 = (1,11,4,15,6,12,8,9,10,2,3,14,13,7,0,5)"
   ]
  },
  {
   "cell_type": "code",
   "execution_count": 87,
   "metadata": {},
   "outputs": [
    {
     "name": "stdout",
     "output_type": "stream",
     "text": [
      "Solución: ['Mover hueco arriba', 'Mover hueco derecha', 'Mover hueco abajo', 'Mover hueco izquierda', 'Mover hueco arriba', 'Mover hueco arriba', 'Mover hueco izquierda', 'Mover hueco abajo', 'Mover hueco abajo', 'Mover hueco derecha', 'Mover hueco derecha', 'Mover hueco arriba', 'Mover hueco izquierda', 'Mover hueco izquierda', 'Mover hueco arriba', 'Mover hueco derecha', 'Mover hueco abajo', 'Mover hueco abajo', 'Mover hueco derecha']\n",
      "Algoritmo: astar_search\n",
      "Heurística: linear2\n",
      "Longitud de la solución: 19. Nodos analizados: 5345\n",
      "CPU times: total: 21.2 s\n",
      "Wall time: 21.3 s\n",
      "Este problema no tiene solucion. \n",
      "CPU times: total: 0 ns\n",
      "Wall time: 0 ns\n"
     ]
    },
    {
     "ename": "KeyboardInterrupt",
     "evalue": "",
     "output_type": "error",
     "traceback": [
      "\u001b[1;31m---------------------------------------------------------------------------\u001b[0m",
      "\u001b[1;31mKeyboardInterrupt\u001b[0m                         Traceback (most recent call last)",
      "File \u001b[1;32m<timed eval>:1\u001b[0m, in \u001b[0;36m<module>\u001b[1;34m\u001b[0m\n",
      "Input \u001b[1;32mIn [84]\u001b[0m, in \u001b[0;36mresuelve_quince_puzzle\u001b[1;34m(estado_inicial, algoritmo, h)\u001b[0m\n\u001b[0;32m     36\u001b[0m \u001b[38;5;28;01mif\u001b[39;00m p15\u001b[38;5;241m.\u001b[39mcheck_solvability(estado_inicial):\n\u001b[0;32m     37\u001b[0m     \u001b[38;5;28;01mif\u001b[39;00m h: \n\u001b[1;32m---> 38\u001b[0m         sol\u001b[38;5;241m=\u001b[39m \u001b[43malgoritmo\u001b[49m\u001b[43m(\u001b[49m\u001b[43mp15p\u001b[49m\u001b[43m,\u001b[49m\u001b[43mh\u001b[49m\u001b[43m)\u001b[49m\u001b[38;5;241m.\u001b[39msolution()\n\u001b[0;32m     39\u001b[0m     \u001b[38;5;28;01melse\u001b[39;00m: \n\u001b[0;32m     40\u001b[0m         sol\u001b[38;5;241m=\u001b[39m algoritmo(p15p)\u001b[38;5;241m.\u001b[39msolution()\n",
      "File \u001b[1;32m~\\Documents\\Universidad\\IA\\IA1\\Practicas\\Sesion_2\\search.py:420\u001b[0m, in \u001b[0;36mastar_search\u001b[1;34m(problem, h, display)\u001b[0m\n\u001b[0;32m    416\u001b[0m \u001b[38;5;124;03m\"\"\"A* search is best-first graph search with f(n) = g(n)+h(n).\u001b[39;00m\n\u001b[0;32m    417\u001b[0m \u001b[38;5;124;03mYou need to specify the h function when you call astar_search, or\u001b[39;00m\n\u001b[0;32m    418\u001b[0m \u001b[38;5;124;03melse in your Problem subclass.\"\"\"\u001b[39;00m\n\u001b[0;32m    419\u001b[0m h \u001b[38;5;241m=\u001b[39m memoize(h \u001b[38;5;129;01mor\u001b[39;00m problem\u001b[38;5;241m.\u001b[39mh, \u001b[38;5;124m'\u001b[39m\u001b[38;5;124mh\u001b[39m\u001b[38;5;124m'\u001b[39m)\n\u001b[1;32m--> 420\u001b[0m \u001b[38;5;28;01mreturn\u001b[39;00m \u001b[43mbest_first_graph_search\u001b[49m\u001b[43m(\u001b[49m\u001b[43mproblem\u001b[49m\u001b[43m,\u001b[49m\u001b[43m \u001b[49m\u001b[38;5;28;43;01mlambda\u001b[39;49;00m\u001b[43m \u001b[49m\u001b[43mn\u001b[49m\u001b[43m:\u001b[49m\u001b[43m \u001b[49m\u001b[43mn\u001b[49m\u001b[38;5;241;43m.\u001b[39;49m\u001b[43mpath_cost\u001b[49m\u001b[43m \u001b[49m\u001b[38;5;241;43m+\u001b[39;49m\u001b[43m \u001b[49m\u001b[43mh\u001b[49m\u001b[43m(\u001b[49m\u001b[43mn\u001b[49m\u001b[43m)\u001b[49m\u001b[43m,\u001b[49m\u001b[43m \u001b[49m\u001b[43mdisplay\u001b[49m\u001b[43m)\u001b[49m\n",
      "File \u001b[1;32m~\\Documents\\Universidad\\IA\\IA1\\Practicas\\Sesion_2\\search.py:281\u001b[0m, in \u001b[0;36mbest_first_graph_search\u001b[1;34m(problem, f, display)\u001b[0m\n\u001b[0;32m    279\u001b[0m explored\u001b[38;5;241m.\u001b[39madd(node\u001b[38;5;241m.\u001b[39mstate)\n\u001b[0;32m    280\u001b[0m \u001b[38;5;28;01mfor\u001b[39;00m child \u001b[38;5;129;01min\u001b[39;00m node\u001b[38;5;241m.\u001b[39mexpand(problem):\n\u001b[1;32m--> 281\u001b[0m     \u001b[38;5;28;01mif\u001b[39;00m child\u001b[38;5;241m.\u001b[39mstate \u001b[38;5;129;01mnot\u001b[39;00m \u001b[38;5;129;01min\u001b[39;00m explored \u001b[38;5;129;01mand\u001b[39;00m \u001b[43mchild\u001b[49m\u001b[43m \u001b[49m\u001b[38;5;129;43;01mnot\u001b[39;49;00m\u001b[43m \u001b[49m\u001b[38;5;129;43;01min\u001b[39;49;00m\u001b[43m \u001b[49m\u001b[43mfrontier\u001b[49m:\n\u001b[0;32m    282\u001b[0m         frontier\u001b[38;5;241m.\u001b[39mappend(child)\n\u001b[0;32m    283\u001b[0m     \u001b[38;5;28;01melif\u001b[39;00m child \u001b[38;5;129;01min\u001b[39;00m frontier:\n",
      "File \u001b[1;32m~\\Documents\\Universidad\\IA\\IA1\\Practicas\\Sesion_2\\utils.py:761\u001b[0m, in \u001b[0;36mPriorityQueue.__contains__\u001b[1;34m(self, key)\u001b[0m\n\u001b[0;32m    759\u001b[0m \u001b[38;5;28;01mdef\u001b[39;00m \u001b[38;5;21m__contains__\u001b[39m(\u001b[38;5;28mself\u001b[39m, key):\n\u001b[0;32m    760\u001b[0m     \u001b[38;5;124;03m\"\"\"Return True if the key is in PriorityQueue.\"\"\"\u001b[39;00m\n\u001b[1;32m--> 761\u001b[0m     \u001b[38;5;28;01mreturn\u001b[39;00m \u001b[38;5;28many\u001b[39m([item \u001b[38;5;241m==\u001b[39m key \u001b[38;5;28;01mfor\u001b[39;00m _, item \u001b[38;5;129;01min\u001b[39;00m \u001b[38;5;28mself\u001b[39m\u001b[38;5;241m.\u001b[39mheap])\n",
      "File \u001b[1;32m~\\Documents\\Universidad\\IA\\IA1\\Practicas\\Sesion_2\\utils.py:761\u001b[0m, in \u001b[0;36m<listcomp>\u001b[1;34m(.0)\u001b[0m\n\u001b[0;32m    759\u001b[0m \u001b[38;5;28;01mdef\u001b[39;00m \u001b[38;5;21m__contains__\u001b[39m(\u001b[38;5;28mself\u001b[39m, key):\n\u001b[0;32m    760\u001b[0m     \u001b[38;5;124;03m\"\"\"Return True if the key is in PriorityQueue.\"\"\"\u001b[39;00m\n\u001b[1;32m--> 761\u001b[0m     \u001b[38;5;28;01mreturn\u001b[39;00m \u001b[38;5;28many\u001b[39m([\u001b[43mitem\u001b[49m\u001b[43m \u001b[49m\u001b[38;5;241;43m==\u001b[39;49m\u001b[43m \u001b[49m\u001b[43mkey\u001b[49m \u001b[38;5;28;01mfor\u001b[39;00m _, item \u001b[38;5;129;01min\u001b[39;00m \u001b[38;5;28mself\u001b[39m\u001b[38;5;241m.\u001b[39mheap])\n",
      "File \u001b[1;32m~\\Documents\\Universidad\\IA\\IA1\\Practicas\\Sesion_2\\search.py:123\u001b[0m, in \u001b[0;36mNode.__eq__\u001b[1;34m(self, other)\u001b[0m\n\u001b[0;32m    122\u001b[0m \u001b[38;5;28;01mdef\u001b[39;00m \u001b[38;5;21m__eq__\u001b[39m(\u001b[38;5;28mself\u001b[39m, other):\n\u001b[1;32m--> 123\u001b[0m     \u001b[38;5;28;01mreturn\u001b[39;00m \u001b[38;5;28;43misinstance\u001b[39;49m\u001b[43m(\u001b[49m\u001b[43mother\u001b[49m\u001b[43m,\u001b[49m\u001b[43m \u001b[49m\u001b[43mNode\u001b[49m\u001b[43m)\u001b[49m \u001b[38;5;129;01mand\u001b[39;00m \u001b[38;5;28mself\u001b[39m\u001b[38;5;241m.\u001b[39mstate \u001b[38;5;241m==\u001b[39m other\u001b[38;5;241m.\u001b[39mstate\n",
      "\u001b[1;31mKeyboardInterrupt\u001b[0m: "
     ]
    }
   ],
   "source": [
    "%time resuelve_quince_puzzle(e6,astar_search, linear2)\n",
    "%time resuelve_quince_puzzle(e7,astar_search, manhattan2)\n",
    "%time resuelve_quince_puzzle(e8,astar_search, max_heuristic2)"
   ]
  },
  {
   "cell_type": "markdown",
   "metadata": {},
   "source": [
    "###  PARTE IV:  Se os proporcionará un enunciado de algún problema para representar y resolver usando el paradigma del espacio de estados. \n"
   ]
  },
  {
   "cell_type": "markdown",
   "metadata": {},
   "source": [
    "## Ejercicio: Muelle de carga\n"
   ]
  },
  {
   "cell_type": "markdown",
   "metadata": {},
   "source": [
    "Usaremos el algoritmo de busqueda en profundidad para encontrar la primera solución posible.\n"
   ]
  },
  {
   "cell_type": "code",
   "execution_count": 88,
   "metadata": {},
   "outputs": [],
   "source": [
    "class Muelles(Problem):\n",
    "    def __init__(self, initial, alturas=None, paquetes=None):\n",
    "        super().__init__(initial, None)\n",
    "        self.paquetes = paquetes\n",
    "        self.alturas = alturas\n",
    "        \n",
    "    def goal_test(self, state):\n",
    "        paquetes_accesibles = 0 # Numero de paquetes accesibles encontrados\n",
    "        for pale in state[0:3]: # Buscamos en las pilas del muelle1\n",
    "            if len(pale)>0: # Solo comprobamos en pilas que no esten vacias\n",
    "                i = 0\n",
    "                while i < len(pale): # Recorremos las pilas contando paquetes deseados y en cuanto haya \n",
    "                                        # un paquete no deseado pasamos de pila\n",
    "                    if (pale[i] in self.paquetes):\n",
    "                        paquetes_accesibles += 1\n",
    "                    i += 1\n",
    "        return (paquetes_accesibles == len(self.paquetes)) # Comprabamos que el numero de paquetes accesible\n",
    "                                                            # sea igual que el numero de paquetes deseados\n",
    "\n",
    "    def actions(self, state):\n",
    "        acs = list()\n",
    "        for paleO in range(0,6):\n",
    "            for paleD in range(0,6):\n",
    "                if(paleO != paleD):\n",
    "                    muelleO = 0 if paleO < 3 else 1\n",
    "                    muelleD = 0 if paleD < 3 else 1\n",
    "                    # Comprobamos todas las parejas añadiendo la pareja se el origen tiene paquetes y el destino\n",
    "                    # no supera la altura al añadir paquete\n",
    "                    if ((len(state[paleO]) > 0) & (len(state[paleD]) < self.alturas[muelleD]) ):\n",
    "                        acs.append(\"Mover paquete del pale \"+ str(paleO) + \" del muelle \"+ str(muelleO+1) + \" al pale \" +str(paleD) +\" del muelle \" +str(muelleD+1))\n",
    "        return acs\n",
    "\n",
    "    def result(self, state, action):\n",
    "        # Tratando la accion como una lista de palabras gracias a split()\n",
    "        # sacamos los 2 valores que necesitamos y cambiamos el estado antes\n",
    "        s = list(state)\n",
    "        paleO = int(action.split()[4])\n",
    "        paleD = int(action.split()[10])\n",
    "        s[paleD] = (s[paleO][0],) + s[paleD]\n",
    "        s[paleO] = s[paleO][1:] if len(s[paleO])>1 else tuple()\n",
    "        return tuple(s)\n"
   ]
  },
  {
   "cell_type": "code",
   "execution_count": 89,
   "metadata": {},
   "outputs": [],
   "source": [
    "initial = ((\"C7\",\"C1\",), (\"C10\", \"C9\"), (\"C11\",),\n",
    "           (\"C8\", \"C4\"), (\"C2\", \"C3\", \"C5\"), (\"C6\",))\n",
    "m = Muelles(initial=initial,alturas=[2,3], paquetes=[\"C7\", \"C4\", \"C3\"])"
   ]
  },
  {
   "cell_type": "code",
   "execution_count": 90,
   "metadata": {},
   "outputs": [
    {
     "data": {
      "text/plain": [
       "['Mover paquete del pale 0 del muelle 1 al pale 2 del muelle 1',\n",
       " 'Mover paquete del pale 0 del muelle 1 al pale 3 del muelle 2',\n",
       " 'Mover paquete del pale 0 del muelle 1 al pale 5 del muelle 2',\n",
       " 'Mover paquete del pale 1 del muelle 1 al pale 2 del muelle 1',\n",
       " 'Mover paquete del pale 1 del muelle 1 al pale 3 del muelle 2',\n",
       " 'Mover paquete del pale 1 del muelle 1 al pale 5 del muelle 2',\n",
       " 'Mover paquete del pale 2 del muelle 1 al pale 3 del muelle 2',\n",
       " 'Mover paquete del pale 2 del muelle 1 al pale 5 del muelle 2',\n",
       " 'Mover paquete del pale 3 del muelle 2 al pale 2 del muelle 1',\n",
       " 'Mover paquete del pale 3 del muelle 2 al pale 5 del muelle 2',\n",
       " 'Mover paquete del pale 4 del muelle 2 al pale 2 del muelle 1',\n",
       " 'Mover paquete del pale 4 del muelle 2 al pale 3 del muelle 2',\n",
       " 'Mover paquete del pale 4 del muelle 2 al pale 5 del muelle 2',\n",
       " 'Mover paquete del pale 5 del muelle 2 al pale 2 del muelle 1',\n",
       " 'Mover paquete del pale 5 del muelle 2 al pale 3 del muelle 2']"
      ]
     },
     "execution_count": 90,
     "metadata": {},
     "output_type": "execute_result"
    }
   ],
   "source": [
    "m.actions(initial)"
   ]
  },
  {
   "cell_type": "code",
   "execution_count": 91,
   "metadata": {},
   "outputs": [
    {
     "data": {
      "text/plain": [
       "(('C1',),\n",
       " ('C10', 'C9'),\n",
       " ('C7', 'C11'),\n",
       " ('C8', 'C4'),\n",
       " ('C2', 'C3', 'C5'),\n",
       " ('C6',))"
      ]
     },
     "execution_count": 91,
     "metadata": {},
     "output_type": "execute_result"
    }
   ],
   "source": [
    "m.result(initial,\"Mover paquete del pale 0 del muelle 1 al pale 2 del muelle 1\")"
   ]
  },
  {
   "cell_type": "code",
   "execution_count": 92,
   "metadata": {},
   "outputs": [
    {
     "data": {
      "text/plain": [
       "False"
      ]
     },
     "execution_count": 92,
     "metadata": {},
     "output_type": "execute_result"
    }
   ],
   "source": [
    "m.goal_test(initial)"
   ]
  },
  {
   "cell_type": "code",
   "execution_count": null,
   "metadata": {},
   "outputs": [],
   "source": [
    "estado_final = depth_first_tree_search(m)"
   ]
  },
  {
   "cell_type": "code",
   "execution_count": null,
   "metadata": {},
   "outputs": [],
   "source": [
    "m.goaltest(estado_final)"
   ]
  },
  {
   "cell_type": "markdown",
   "metadata": {},
   "source": [
    "Al añadir un pila mas el el factor de ramificacion aumentaria (+ 2*X siendo X el numero de pilas añadidas a cada muelle)ya que para cara cada nodo el numero de acciones posibles esta entre (0,N-1) siendo N el numero de pilas totales.\n",
    "Si añadirmos un muelle aumentaria mas aun el factor de ramificacion ya que estaria entre (0,S*T-1) siendo S el numero de muelles y T las pilas en cada muelle"
   ]
  },
  {
   "cell_type": "code",
   "execution_count": null,
   "metadata": {},
   "outputs": [],
   "source": []
  },
  {
   "cell_type": "code",
   "execution_count": null,
   "metadata": {},
   "outputs": [],
   "source": []
  }
 ],
 "metadata": {
  "kernelspec": {
   "display_name": "Python 3 (ipykernel)",
   "language": "python",
   "name": "python3"
  },
  "language_info": {
   "codemirror_mode": {
    "name": "ipython",
    "version": 3
   },
   "file_extension": ".py",
   "mimetype": "text/x-python",
   "name": "python",
   "nbconvert_exporter": "python",
   "pygments_lexer": "ipython3",
   "version": "3.9.12"
  },
  "vscode": {
   "interpreter": {
    "hash": "916dbcbb3f70747c44a77c7bcd40155683ae19c65e1c03b4aa3499c5328201f1"
   }
  }
 },
 "nbformat": 4,
 "nbformat_minor": 2
}
