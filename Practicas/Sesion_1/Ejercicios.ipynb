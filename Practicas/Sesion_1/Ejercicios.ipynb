{
 "cells": [
  {
   "cell_type": "markdown",
   "metadata": {},
   "source": [
    "## Resuelve los siguientes ejercicios en este archivo y entregalo en el campus"
   ]
  },
  {
   "cell_type": "markdown",
   "metadata": {},
   "source": [
    "**_Ejercicio 1_**. Escribe un programa que calcule el volumen de un cono a partir del radio de la base y su altura. \n",
    "\n",
    "Usa la siguiente fórmula:\n",
    "volumen = pi * radio * radio * altura / 3\n",
    "\n",
    "Solicita los valores de radio y altura al usuario.  El valor aproximado de pi es 3.14159.\n",
    "\n"
   ]
  },
  {
   "cell_type": "code",
   "execution_count": 2,
   "metadata": {},
   "outputs": [
    {
     "name": "stdout",
     "output_type": "stream",
     "text": [
      "Volumen del cono:  1.0471966666666666\n"
     ]
    }
   ],
   "source": [
    "# Escribe aquí la solución del ejercicio 1.\n",
    "pi = 3.14159\n",
    "\n",
    "radio = int(input(\"Radio del cono: \"))\n",
    "altura = int(input (\"Altura del cono: \"))\n",
    "\n",
    "volumen = pi * radio * radio * altura /3\n",
    "\n",
    "print(\"Volumen del cono: \", volumen)"
   ]
  },
  {
   "cell_type": "markdown",
   "metadata": {},
   "source": [
    "**_Ejercicio 2_**.  Escribe un programa que clasifique los elementos de una lista en positivos y negativos. Los elementos positivos deben añadirse a una lista y los negativos a otra. Si la lista original contiene ceros, se deben ignorar."
   ]
  },
  {
   "cell_type": "code",
   "execution_count": 12,
   "metadata": {},
   "outputs": [
    {
     "name": "stdout",
     "output_type": "stream",
     "text": [
      "Positivos:  [7, 6, 234]\n",
      "Negativos:  [-9, -4, -7]\n"
     ]
    }
   ],
   "source": [
    "# Escribe aquí la solución del ejercicio 2.\n",
    "#Ejemplo: \n",
    "#lista_original = [7, 6, -9, 234, -4, 0, -7]\n",
    "#Positivos: [7, 6, 234]\n",
    "#Negativos: [-9, -4, -7]\n",
    "\n",
    "lista_original = []\n",
    "\n",
    "tamano_lista = int(input(\"Tamaño de la lista: \"))\n",
    "\n",
    "for x in range(0, tamano_lista):\n",
    "    lista_original.append(int(input(\"Siguiente numero\")))\n",
    "positivos = []\n",
    "negativos = []\n",
    "\n",
    "for x in range(0, len(lista_original)):\n",
    "    if(lista_original[x] > 0):\n",
    "        positivos.append(lista_original[x])\n",
    "    elif(lista_original[x] < 0):\n",
    "        negativos.append(lista_original[x])\n",
    "\n",
    "print(\"Positivos: \", positivos)\n",
    "print(\"Negativos: \", negativos)"
   ]
  },
  {
   "cell_type": "markdown",
   "metadata": {},
   "source": [
    "**_Ejercicio 3_**.  Escribir una función cuadrados(l) que recibiendo una secuencia l de números, devuelve la lista de los cuadrados de esos números, en el mismo orden. Por ejemplo:\n",
    "\tcuadrados([4,1,5.2,3,8])\n",
    "\t[16, 1, 27.040000000000003, 9, 64]\n",
    "\tHacer dos versiones: una usando un bucle explícito, y la otra mediante definición de listas por comprensión."
   ]
  },
  {
   "cell_type": "code",
   "execution_count": 17,
   "metadata": {},
   "outputs": [
    {
     "name": "stdout",
     "output_type": "stream",
     "text": [
      "[16, 1, 27.040000000000003, 9, 64]\n",
      "[16, 1, 27.040000000000003, 9, 64]\n"
     ]
    }
   ],
   "source": [
    "# Escribe aquí la solución del ejercicio 3.\n",
    "# Escribir una función cuadrados(l) que recibiendo una secuencia l de números,\n",
    "# devuelve la lista de los cuadrados de esos números, en el mismo orden.\n",
    "\n",
    "\n",
    "# Por ejemplo:\n",
    "# \n",
    "# >>> cuadrados([4,1,5.2,3,8])\n",
    "# [16, 1, 27.040000000000003, 9, 64]\n",
    "\n",
    "# ---------------------------------------------------------------------------\n",
    "def cuadrados(l : list) -> None:\n",
    "    lista_cuadrados = []\n",
    "\n",
    "\n",
    "    for x in range(0, len(l)):\n",
    "        lista_cuadrados.append(l[x]*l[x])\n",
    "\n",
    "    print(lista_cuadrados)\n",
    "\n",
    "def cuadrados2(l: list) -> None:\n",
    "\n",
    "\n",
    "    lista_cuadrados2 = [l[x]*l[x]\n",
    "                    for x in range(0, len(l))]\n",
    "\n",
    "    print(lista_cuadrados2)\n",
    "\n",
    "\n",
    "lista_original = [4, 1, 5.2, 3, 8]\n",
    "\n",
    "# tamano_lista = int(input(\"Tamaño de la lista: \"))\n",
    "\n",
    "# for x in range(0, tamano_lista):\n",
    "#     lista_original.append(float(input(\"Siguiente numero\")))\n",
    "\n",
    "cuadrados(lista_original)\n",
    "\n",
    "cuadrados2(lista_original)\n",
    "\n"
   ]
  },
  {
   "cell_type": "code",
   "execution_count": 3,
   "metadata": {},
   "outputs": [
    {
     "data": {
      "text/plain": [
       "3.141592653589793"
      ]
     },
     "execution_count": 3,
     "metadata": {},
     "output_type": "execute_result"
    }
   ],
   "source": [
    "math.pi"
   ]
  },
  {
   "cell_type": "code",
   "execution_count": 5,
   "metadata": {},
   "outputs": [],
   "source": [
    "from math import *"
   ]
  },
  {
   "cell_type": "code",
   "execution_count": 6,
   "metadata": {},
   "outputs": [
    {
     "data": {
      "text/plain": [
       "3.141592653589793"
      ]
     },
     "execution_count": 6,
     "metadata": {},
     "output_type": "execute_result"
    }
   ],
   "source": [
    "pi"
   ]
  },
  {
   "cell_type": "code",
   "execution_count": null,
   "metadata": {},
   "outputs": [],
   "source": []
  }
 ],
 "metadata": {
  "kernelspec": {
   "display_name": "Python 3.10.5 64-bit",
   "language": "python",
   "name": "python3"
  },
  "language_info": {
   "codemirror_mode": {
    "name": "ipython",
    "version": 3
   },
   "file_extension": ".py",
   "mimetype": "text/x-python",
   "name": "python",
   "nbconvert_exporter": "python",
   "pygments_lexer": "ipython3",
   "version": "3.10.6"
  },
  "vscode": {
   "interpreter": {
    "hash": "916dbcbb3f70747c44a77c7bcd40155683ae19c65e1c03b4aa3499c5328201f1"
   }
  }
 },
 "nbformat": 4,
 "nbformat_minor": 2
}
